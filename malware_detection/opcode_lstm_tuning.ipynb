{
 "cells": [
  {
   "cell_type": "code",
   "execution_count": 1,
   "metadata": {},
   "outputs": [],
   "source": [
    "import os\n",
    "os.environ['TF_CPP_MIN_LOG_LEVEL'] = '3'\n",
    "\n",
    "from pathlib import Path\n",
    "import numpy as np\n",
    "from matplotlib import pyplot as plt\n",
    "from sklearn import metrics\n",
    "from sklearn.model_selection import train_test_split\n",
    "from tensorflow.keras.preprocessing.text import Tokenizer\n",
    "from tensorflow.keras.preprocessing.sequence import pad_sequences\n",
    "from tensorflow.keras.models import Sequential\n",
    "from tensorflow.keras.layers import Dense, Embedding, LSTM, SpatialDropout1D, Bidirectional\n",
    "from tensorflow.keras.callbacks import ModelCheckpoint\n",
    "import itertools"
   ]
  },
  {
   "cell_type": "code",
   "execution_count": 2,
   "metadata": {},
   "outputs": [],
   "source": [
    "max_length = 0\n",
    "corpus = list()\n",
    "labels = list()\n",
    "\n",
    "with open(Path('./output/benign/all_benign.txt'), 'r') as f:\n",
    "  lines = f.read().split('\\n')[:-1]\n",
    "  # print(lines[0][33:])\n",
    "for line in lines:\n",
    "  doc = line[33:]\n",
    "  corpus.append(doc)\n",
    "  labels.append(0)\n",
    "  "
   ]
  },
  {
   "cell_type": "code",
   "execution_count": 3,
   "metadata": {},
   "outputs": [],
   "source": [
    "with open(Path('./output/malware/all_malware.txt'), 'r') as f:\n",
    "  lines = f.read().split('\\n')[:-1]\n",
    "  # print(lines[0][33:])\n",
    "doc = ''\n",
    "for line in lines:\n",
    "  doc = line[33:]\n",
    "  corpus.append(doc)\n",
    "  labels.append(1)"
   ]
  },
  {
   "cell_type": "code",
   "execution_count": 4,
   "metadata": {},
   "outputs": [],
   "source": [
    "labels = np.array(labels)"
   ]
  },
  {
   "cell_type": "code",
   "execution_count": 5,
   "metadata": {},
   "outputs": [
    {
     "name": "stdout",
     "output_type": "stream",
     "text": [
      "(2800, 192000)\n"
     ]
    }
   ],
   "source": [
    "tokenizer = Tokenizer(split=' ')\n",
    "tokenizer.fit_on_texts(corpus)\n",
    "X = tokenizer.texts_to_sequences(corpus)\n",
    "X = pad_sequences(X, maxlen=192000)\n",
    "print(X.shape)"
   ]
  },
  {
   "cell_type": "code",
   "execution_count": 6,
   "metadata": {},
   "outputs": [
    {
     "name": "stdout",
     "output_type": "stream",
     "text": [
      "(2800, 32, 6000)\n"
     ]
    }
   ],
   "source": [
    "X = X.reshape(-1, 32, 6000)\n",
    "print(X.shape)"
   ]
  },
  {
   "cell_type": "code",
   "execution_count": 7,
   "metadata": {},
   "outputs": [
    {
     "name": "stdout",
     "output_type": "stream",
     "text": [
      "노드 개수: 26, 한 개 밖에 없는 노드: 0\n"
     ]
    }
   ],
   "source": [
    "vocab_size = len(tokenizer.word_index) + 1\n",
    "print(f'노드 개수: {vocab_size}, 한 개 밖에 없는 노드:', end=' ')\n",
    "unique_word = 0\n",
    "for k in tokenizer.word_docs:\n",
    "  if tokenizer.word_docs[k] == 1:\n",
    "    unique_word += 1\n",
    "print(unique_word)"
   ]
  },
  {
   "cell_type": "code",
   "execution_count": 8,
   "metadata": {},
   "outputs": [
    {
     "name": "stdout",
     "output_type": "stream",
     "text": [
      "Model: \"sequential\"\n",
      "_________________________________________________________________\n",
      " Layer (type)                Output Shape              Param #   \n",
      "=================================================================\n",
      " bidirectional (Bidirectiona  (None, 32, 64)           1544448   \n",
      " l)                                                              \n",
      "                                                                 \n",
      " bidirectional_1 (Bidirectio  (None, 64)               24832     \n",
      " nal)                                                            \n",
      "                                                                 \n",
      " dense (Dense)               (None, 1)                 65        \n",
      "                                                                 \n",
      "=================================================================\n",
      "Total params: 1,569,345\n",
      "Trainable params: 1,569,345\n",
      "Non-trainable params: 0\n",
      "_________________________________________________________________\n",
      "None\n"
     ]
    }
   ],
   "source": [
    "model = Sequential()\n",
    "model.add(Bidirectional(LSTM(units=32, dropout=0.2, recurrent_dropout=0.2, return_sequences=True),\n",
    "                        input_shape=(32, 6000)))\n",
    "model.add(Bidirectional(LSTM(units=32, dropout=0.2, recurrent_dropout=0.2)))\n",
    "model.add(Dense(1, activation='sigmoid'))\n",
    "model.compile(loss='binary_crossentropy',\n",
    "              optimizer='adam', metrics=['accuracy'])\n",
    "print(model.summary())"
   ]
  },
  {
   "cell_type": "code",
   "execution_count": 9,
   "metadata": {},
   "outputs": [
    {
     "name": "stdout",
     "output_type": "stream",
     "text": [
      "Train을 (1960, 32, 6000)만큼, Test를 (840, 32, 6000)만큼 진행\n"
     ]
    }
   ],
   "source": [
    "X_train, X_test, y_train, y_test = train_test_split(X, labels, test_size=0.3, random_state=42)\n",
    "print(f'Train을 {X_train.shape}만큼, Test를 {X_test.shape}만큼 진행')"
   ]
  },
  {
   "cell_type": "code",
   "execution_count": 10,
   "metadata": {},
   "outputs": [
    {
     "name": "stdout",
     "output_type": "stream",
     "text": [
      "Epoch 1/100\n",
      "28/28 - 24s - loss: 0.6683 - accuracy: 0.5975 - val_loss: 0.6385 - val_accuracy: 0.6378 - 24s/epoch - 847ms/step\n",
      "Epoch 2/100\n",
      "28/28 - 15s - loss: 0.6220 - accuracy: 0.6706 - val_loss: 0.5842 - val_accuracy: 0.7041 - 15s/epoch - 531ms/step\n",
      "Epoch 3/100\n",
      "28/28 - 15s - loss: 0.5443 - accuracy: 0.7432 - val_loss: 0.5197 - val_accuracy: 0.7551 - 15s/epoch - 551ms/step\n",
      "Epoch 4/100\n",
      "28/28 - 15s - loss: 0.4642 - accuracy: 0.7744 - val_loss: 0.4814 - val_accuracy: 0.7755 - 15s/epoch - 541ms/step\n",
      "Epoch 5/100\n",
      "28/28 - 15s - loss: 0.4408 - accuracy: 0.7863 - val_loss: 0.4834 - val_accuracy: 0.7296 - 15s/epoch - 525ms/step\n",
      "Epoch 6/100\n",
      "28/28 - 15s - loss: 0.4476 - accuracy: 0.7880 - val_loss: 0.5236 - val_accuracy: 0.7398 - 15s/epoch - 527ms/step\n",
      "Epoch 7/100\n",
      "28/28 - 15s - loss: 0.4304 - accuracy: 0.8061 - val_loss: 0.4768 - val_accuracy: 0.7602 - 15s/epoch - 532ms/step\n",
      "Epoch 8/100\n",
      "28/28 - 15s - loss: 0.4036 - accuracy: 0.8078 - val_loss: 0.4598 - val_accuracy: 0.7755 - 15s/epoch - 526ms/step\n",
      "Epoch 9/100\n",
      "28/28 - 15s - loss: 0.3770 - accuracy: 0.8203 - val_loss: 0.5568 - val_accuracy: 0.7449 - 15s/epoch - 522ms/step\n",
      "Epoch 10/100\n",
      "28/28 - 15s - loss: 0.3508 - accuracy: 0.8475 - val_loss: 0.4307 - val_accuracy: 0.8061 - 15s/epoch - 537ms/step\n",
      "Epoch 11/100\n",
      "28/28 - 15s - loss: 0.3678 - accuracy: 0.8390 - val_loss: 0.4395 - val_accuracy: 0.7755 - 15s/epoch - 534ms/step\n",
      "Epoch 12/100\n",
      "28/28 - 15s - loss: 0.3270 - accuracy: 0.8549 - val_loss: 0.6566 - val_accuracy: 0.6735 - 15s/epoch - 531ms/step\n",
      "Epoch 13/100\n",
      "28/28 - 15s - loss: 0.3232 - accuracy: 0.8554 - val_loss: 0.5448 - val_accuracy: 0.7857 - 15s/epoch - 529ms/step\n",
      "Epoch 14/100\n",
      "28/28 - 15s - loss: 0.3629 - accuracy: 0.8441 - val_loss: 0.4254 - val_accuracy: 0.8061 - 15s/epoch - 530ms/step\n",
      "Epoch 15/100\n",
      "28/28 - 15s - loss: 0.3063 - accuracy: 0.8747 - val_loss: 0.4457 - val_accuracy: 0.8112 - 15s/epoch - 523ms/step\n",
      "Epoch 16/100\n",
      "28/28 - 15s - loss: 0.3033 - accuracy: 0.8702 - val_loss: 0.4923 - val_accuracy: 0.8061 - 15s/epoch - 525ms/step\n",
      "Epoch 17/100\n",
      "28/28 - 15s - loss: 0.2930 - accuracy: 0.8759 - val_loss: 0.5034 - val_accuracy: 0.7653 - 15s/epoch - 523ms/step\n",
      "Epoch 18/100\n",
      "28/28 - 15s - loss: 0.2961 - accuracy: 0.8906 - val_loss: 0.6413 - val_accuracy: 0.7602 - 15s/epoch - 523ms/step\n",
      "Epoch 19/100\n",
      "28/28 - 15s - loss: 0.2914 - accuracy: 0.8787 - val_loss: 0.4431 - val_accuracy: 0.8010 - 15s/epoch - 520ms/step\n",
      "Epoch 20/100\n",
      "28/28 - 15s - loss: 0.2786 - accuracy: 0.8821 - val_loss: 0.5363 - val_accuracy: 0.7806 - 15s/epoch - 521ms/step\n",
      "Epoch 21/100\n",
      "28/28 - 15s - loss: 0.2632 - accuracy: 0.8940 - val_loss: 0.6885 - val_accuracy: 0.7500 - 15s/epoch - 526ms/step\n",
      "Epoch 22/100\n",
      "28/28 - 15s - loss: 0.2865 - accuracy: 0.8917 - val_loss: 0.5969 - val_accuracy: 0.7806 - 15s/epoch - 532ms/step\n",
      "Epoch 23/100\n",
      "28/28 - 15s - loss: 0.3162 - accuracy: 0.8651 - val_loss: 0.5440 - val_accuracy: 0.7602 - 15s/epoch - 529ms/step\n",
      "Epoch 24/100\n",
      "28/28 - 15s - loss: 0.2611 - accuracy: 0.8929 - val_loss: 0.6124 - val_accuracy: 0.7653 - 15s/epoch - 526ms/step\n",
      "Epoch 25/100\n",
      "28/28 - 15s - loss: 0.2708 - accuracy: 0.8883 - val_loss: 0.4875 - val_accuracy: 0.7908 - 15s/epoch - 527ms/step\n",
      "Epoch 26/100\n",
      "28/28 - 15s - loss: 0.2542 - accuracy: 0.8997 - val_loss: 0.5177 - val_accuracy: 0.7908 - 15s/epoch - 528ms/step\n",
      "Epoch 27/100\n",
      "28/28 - 15s - loss: 0.2228 - accuracy: 0.9110 - val_loss: 0.6404 - val_accuracy: 0.7755 - 15s/epoch - 526ms/step\n",
      "Epoch 28/100\n",
      "28/28 - 15s - loss: 0.2449 - accuracy: 0.8963 - val_loss: 0.5448 - val_accuracy: 0.7704 - 15s/epoch - 531ms/step\n",
      "Epoch 29/100\n",
      "28/28 - 15s - loss: 0.2213 - accuracy: 0.9138 - val_loss: 0.6641 - val_accuracy: 0.7194 - 15s/epoch - 527ms/step\n",
      "Epoch 30/100\n",
      "28/28 - 15s - loss: 0.2675 - accuracy: 0.8872 - val_loss: 0.5496 - val_accuracy: 0.7653 - 15s/epoch - 526ms/step\n",
      "Epoch 31/100\n",
      "28/28 - 15s - loss: 0.2330 - accuracy: 0.9087 - val_loss: 0.6579 - val_accuracy: 0.7449 - 15s/epoch - 526ms/step\n",
      "Epoch 32/100\n",
      "28/28 - 15s - loss: 0.2024 - accuracy: 0.9229 - val_loss: 0.5948 - val_accuracy: 0.7959 - 15s/epoch - 532ms/step\n",
      "Epoch 33/100\n",
      "28/28 - 15s - loss: 0.2149 - accuracy: 0.9184 - val_loss: 0.4474 - val_accuracy: 0.8367 - 15s/epoch - 545ms/step\n",
      "Epoch 34/100\n",
      "28/28 - 15s - loss: 0.2072 - accuracy: 0.9229 - val_loss: 0.5962 - val_accuracy: 0.8061 - 15s/epoch - 545ms/step\n",
      "Epoch 35/100\n",
      "28/28 - 15s - loss: 0.1750 - accuracy: 0.9325 - val_loss: 0.6756 - val_accuracy: 0.8163 - 15s/epoch - 550ms/step\n",
      "Epoch 36/100\n",
      "28/28 - 15s - loss: 0.1960 - accuracy: 0.9218 - val_loss: 0.4699 - val_accuracy: 0.8163 - 15s/epoch - 546ms/step\n",
      "Epoch 37/100\n",
      "28/28 - 15s - loss: 0.1624 - accuracy: 0.9433 - val_loss: 0.7086 - val_accuracy: 0.7908 - 15s/epoch - 547ms/step\n",
      "Epoch 38/100\n",
      "28/28 - 15s - loss: 0.1834 - accuracy: 0.9320 - val_loss: 0.6364 - val_accuracy: 0.7653 - 15s/epoch - 544ms/step\n",
      "Epoch 39/100\n",
      "28/28 - 15s - loss: 0.1750 - accuracy: 0.9303 - val_loss: 0.7151 - val_accuracy: 0.7704 - 15s/epoch - 544ms/step\n",
      "Epoch 40/100\n",
      "28/28 - 15s - loss: 0.1831 - accuracy: 0.9308 - val_loss: 0.5712 - val_accuracy: 0.8112 - 15s/epoch - 541ms/step\n",
      "Epoch 41/100\n",
      "28/28 - 15s - loss: 0.1607 - accuracy: 0.9461 - val_loss: 0.6942 - val_accuracy: 0.7653 - 15s/epoch - 544ms/step\n",
      "Epoch 42/100\n",
      "28/28 - 15s - loss: 0.1587 - accuracy: 0.9405 - val_loss: 0.8436 - val_accuracy: 0.7500 - 15s/epoch - 544ms/step\n",
      "Epoch 43/100\n",
      "28/28 - 15s - loss: 0.1782 - accuracy: 0.9354 - val_loss: 0.6558 - val_accuracy: 0.7500 - 15s/epoch - 549ms/step\n",
      "Epoch 44/100\n",
      "28/28 - 15s - loss: 0.1737 - accuracy: 0.9314 - val_loss: 0.6903 - val_accuracy: 0.7959 - 15s/epoch - 545ms/step\n",
      "Epoch 45/100\n",
      "28/28 - 15s - loss: 0.1782 - accuracy: 0.9331 - val_loss: 0.7266 - val_accuracy: 0.7806 - 15s/epoch - 545ms/step\n",
      "Epoch 46/100\n",
      "28/28 - 15s - loss: 0.1798 - accuracy: 0.9308 - val_loss: 0.6669 - val_accuracy: 0.7602 - 15s/epoch - 543ms/step\n",
      "Epoch 47/100\n",
      "28/28 - 15s - loss: 0.1870 - accuracy: 0.9359 - val_loss: 0.9147 - val_accuracy: 0.7449 - 15s/epoch - 544ms/step\n",
      "Epoch 48/100\n",
      "28/28 - 15s - loss: 0.1577 - accuracy: 0.9388 - val_loss: 0.6197 - val_accuracy: 0.7755 - 15s/epoch - 544ms/step\n",
      "Epoch 49/100\n",
      "28/28 - 15s - loss: 0.1433 - accuracy: 0.9495 - val_loss: 0.6985 - val_accuracy: 0.7857 - 15s/epoch - 544ms/step\n",
      "Epoch 50/100\n",
      "28/28 - 15s - loss: 0.1478 - accuracy: 0.9427 - val_loss: 0.5787 - val_accuracy: 0.8265 - 15s/epoch - 543ms/step\n",
      "Epoch 51/100\n",
      "28/28 - 15s - loss: 0.1851 - accuracy: 0.9308 - val_loss: 0.7722 - val_accuracy: 0.7857 - 15s/epoch - 542ms/step\n",
      "Epoch 52/100\n",
      "28/28 - 15s - loss: 0.1386 - accuracy: 0.9518 - val_loss: 0.7449 - val_accuracy: 0.7551 - 15s/epoch - 539ms/step\n",
      "Epoch 53/100\n",
      "28/28 - 15s - loss: 0.1575 - accuracy: 0.9416 - val_loss: 0.6377 - val_accuracy: 0.7908 - 15s/epoch - 541ms/step\n",
      "Epoch 54/100\n",
      "28/28 - 15s - loss: 0.1382 - accuracy: 0.9478 - val_loss: 0.7096 - val_accuracy: 0.7959 - 15s/epoch - 537ms/step\n",
      "Epoch 55/100\n",
      "28/28 - 15s - loss: 0.1393 - accuracy: 0.9501 - val_loss: 0.7953 - val_accuracy: 0.7398 - 15s/epoch - 535ms/step\n",
      "Epoch 56/100\n",
      "28/28 - 15s - loss: 0.1692 - accuracy: 0.9388 - val_loss: 0.6401 - val_accuracy: 0.8061 - 15s/epoch - 536ms/step\n",
      "Epoch 57/100\n",
      "28/28 - 15s - loss: 0.1975 - accuracy: 0.9269 - val_loss: 0.5512 - val_accuracy: 0.7296 - 15s/epoch - 540ms/step\n",
      "Epoch 58/100\n",
      "28/28 - 15s - loss: 0.2164 - accuracy: 0.9144 - val_loss: 0.6957 - val_accuracy: 0.7755 - 15s/epoch - 539ms/step\n",
      "Epoch 59/100\n",
      "28/28 - 15s - loss: 0.2130 - accuracy: 0.9155 - val_loss: 0.6813 - val_accuracy: 0.7857 - 15s/epoch - 537ms/step\n",
      "Epoch 60/100\n",
      "28/28 - 15s - loss: 0.1623 - accuracy: 0.9410 - val_loss: 0.7443 - val_accuracy: 0.7704 - 15s/epoch - 539ms/step\n",
      "Epoch 61/100\n",
      "28/28 - 15s - loss: 0.1573 - accuracy: 0.9382 - val_loss: 0.6742 - val_accuracy: 0.7347 - 15s/epoch - 538ms/step\n",
      "Epoch 62/100\n",
      "28/28 - 15s - loss: 0.1730 - accuracy: 0.9297 - val_loss: 0.6780 - val_accuracy: 0.7806 - 15s/epoch - 536ms/step\n",
      "Epoch 63/100\n",
      "28/28 - 15s - loss: 0.1372 - accuracy: 0.9518 - val_loss: 0.8169 - val_accuracy: 0.7449 - 15s/epoch - 538ms/step\n",
      "Epoch 64/100\n",
      "28/28 - 15s - loss: 0.1614 - accuracy: 0.9393 - val_loss: 0.7633 - val_accuracy: 0.7500 - 15s/epoch - 540ms/step\n",
      "Epoch 65/100\n",
      "28/28 - 15s - loss: 0.1504 - accuracy: 0.9484 - val_loss: 0.8308 - val_accuracy: 0.7653 - 15s/epoch - 539ms/step\n",
      "Epoch 66/100\n",
      "28/28 - 15s - loss: 0.1433 - accuracy: 0.9484 - val_loss: 0.9848 - val_accuracy: 0.7398 - 15s/epoch - 541ms/step\n",
      "Epoch 67/100\n",
      "28/28 - 15s - loss: 0.1985 - accuracy: 0.9280 - val_loss: 0.5395 - val_accuracy: 0.8163 - 15s/epoch - 540ms/step\n",
      "Epoch 68/100\n",
      "28/28 - 15s - loss: 0.1569 - accuracy: 0.9388 - val_loss: 0.6353 - val_accuracy: 0.8214 - 15s/epoch - 539ms/step\n",
      "Epoch 69/100\n",
      "28/28 - 15s - loss: 0.1663 - accuracy: 0.9473 - val_loss: 0.5922 - val_accuracy: 0.7908 - 15s/epoch - 538ms/step\n",
      "Epoch 70/100\n",
      "28/28 - 15s - loss: 0.1541 - accuracy: 0.9427 - val_loss: 0.6141 - val_accuracy: 0.8010 - 15s/epoch - 537ms/step\n",
      "Epoch 71/100\n",
      "28/28 - 15s - loss: 0.1214 - accuracy: 0.9541 - val_loss: 0.9101 - val_accuracy: 0.7092 - 15s/epoch - 541ms/step\n",
      "Epoch 72/100\n",
      "28/28 - 15s - loss: 0.1072 - accuracy: 0.9637 - val_loss: 0.8941 - val_accuracy: 0.7755 - 15s/epoch - 538ms/step\n",
      "Epoch 73/100\n",
      "28/28 - 15s - loss: 0.1110 - accuracy: 0.9603 - val_loss: 1.0073 - val_accuracy: 0.7245 - 15s/epoch - 539ms/step\n",
      "Epoch 74/100\n",
      "28/28 - 15s - loss: 0.1444 - accuracy: 0.9495 - val_loss: 0.8111 - val_accuracy: 0.7551 - 15s/epoch - 541ms/step\n",
      "Epoch 75/100\n",
      "28/28 - 15s - loss: 0.1443 - accuracy: 0.9456 - val_loss: 0.6274 - val_accuracy: 0.8061 - 15s/epoch - 540ms/step\n",
      "Epoch 76/100\n",
      "28/28 - 15s - loss: 0.1029 - accuracy: 0.9598 - val_loss: 0.8203 - val_accuracy: 0.7959 - 15s/epoch - 539ms/step\n",
      "Epoch 77/100\n",
      "28/28 - 15s - loss: 0.1308 - accuracy: 0.9535 - val_loss: 0.7882 - val_accuracy: 0.7908 - 15s/epoch - 539ms/step\n",
      "Epoch 78/100\n",
      "28/28 - 15s - loss: 0.1303 - accuracy: 0.9535 - val_loss: 0.9339 - val_accuracy: 0.7398 - 15s/epoch - 542ms/step\n",
      "Epoch 79/100\n",
      "28/28 - 15s - loss: 0.1328 - accuracy: 0.9490 - val_loss: 0.7948 - val_accuracy: 0.8010 - 15s/epoch - 535ms/step\n",
      "Epoch 80/100\n",
      "28/28 - 15s - loss: 0.1376 - accuracy: 0.9467 - val_loss: 0.9859 - val_accuracy: 0.7806 - 15s/epoch - 540ms/step\n",
      "Epoch 81/100\n",
      "28/28 - 15s - loss: 0.1163 - accuracy: 0.9586 - val_loss: 1.0671 - val_accuracy: 0.7551 - 15s/epoch - 538ms/step\n",
      "Epoch 82/100\n",
      "28/28 - 15s - loss: 0.1124 - accuracy: 0.9552 - val_loss: 0.7902 - val_accuracy: 0.7908 - 15s/epoch - 539ms/step\n",
      "Epoch 83/100\n",
      "28/28 - 15s - loss: 0.2156 - accuracy: 0.9201 - val_loss: 0.6252 - val_accuracy: 0.7500 - 15s/epoch - 536ms/step\n",
      "Epoch 84/100\n",
      "28/28 - 15s - loss: 0.1820 - accuracy: 0.9178 - val_loss: 0.8929 - val_accuracy: 0.7347 - 15s/epoch - 540ms/step\n",
      "Epoch 85/100\n",
      "28/28 - 15s - loss: 0.2062 - accuracy: 0.9138 - val_loss: 0.7303 - val_accuracy: 0.7449 - 15s/epoch - 537ms/step\n",
      "Epoch 86/100\n",
      "28/28 - 15s - loss: 0.2021 - accuracy: 0.9201 - val_loss: 0.7272 - val_accuracy: 0.7500 - 15s/epoch - 535ms/step\n",
      "Epoch 87/100\n",
      "28/28 - 15s - loss: 0.1748 - accuracy: 0.9348 - val_loss: 0.6346 - val_accuracy: 0.8010 - 15s/epoch - 539ms/step\n",
      "Epoch 88/100\n",
      "28/28 - 15s - loss: 0.1821 - accuracy: 0.9246 - val_loss: 0.6816 - val_accuracy: 0.7449 - 15s/epoch - 540ms/step\n",
      "Epoch 89/100\n",
      "28/28 - 15s - loss: 0.1652 - accuracy: 0.9320 - val_loss: 0.8937 - val_accuracy: 0.7092 - 15s/epoch - 536ms/step\n",
      "Epoch 90/100\n",
      "28/28 - 15s - loss: 0.1451 - accuracy: 0.9410 - val_loss: 0.8422 - val_accuracy: 0.7755 - 15s/epoch - 536ms/step\n",
      "Epoch 91/100\n",
      "28/28 - 15s - loss: 0.1321 - accuracy: 0.9495 - val_loss: 0.8230 - val_accuracy: 0.7806 - 15s/epoch - 537ms/step\n",
      "Epoch 92/100\n",
      "28/28 - 15s - loss: 0.1246 - accuracy: 0.9495 - val_loss: 0.7129 - val_accuracy: 0.7704 - 15s/epoch - 538ms/step\n",
      "Epoch 93/100\n",
      "28/28 - 15s - loss: 0.1173 - accuracy: 0.9495 - val_loss: 0.9588 - val_accuracy: 0.7245 - 15s/epoch - 535ms/step\n",
      "Epoch 94/100\n",
      "28/28 - 15s - loss: 0.1086 - accuracy: 0.9529 - val_loss: 0.8427 - val_accuracy: 0.7755 - 15s/epoch - 533ms/step\n",
      "Epoch 95/100\n",
      "28/28 - 15s - loss: 0.1278 - accuracy: 0.9512 - val_loss: 0.8221 - val_accuracy: 0.7653 - 15s/epoch - 535ms/step\n",
      "Epoch 96/100\n",
      "28/28 - 15s - loss: 0.1360 - accuracy: 0.9450 - val_loss: 0.7194 - val_accuracy: 0.7602 - 15s/epoch - 537ms/step\n",
      "Epoch 97/100\n",
      "28/28 - 15s - loss: 0.1427 - accuracy: 0.9405 - val_loss: 1.1687 - val_accuracy: 0.7143 - 15s/epoch - 537ms/step\n",
      "Epoch 98/100\n",
      "28/28 - 15s - loss: 0.1196 - accuracy: 0.9495 - val_loss: 0.8854 - val_accuracy: 0.7755 - 15s/epoch - 536ms/step\n",
      "Epoch 99/100\n",
      "28/28 - 15s - loss: 0.0941 - accuracy: 0.9666 - val_loss: 0.8759 - val_accuracy: 0.7755 - 15s/epoch - 536ms/step\n",
      "Epoch 100/100\n",
      "28/28 - 15s - loss: 0.0932 - accuracy: 0.9649 - val_loss: 0.9518 - val_accuracy: 0.7704 - 15s/epoch - 536ms/step\n"
     ]
    }
   ],
   "source": [
    "batch_size = 64\n",
    "mc = ModelCheckpoint('./log/model.h5', save_best_only=True)\n",
    "history = model.fit(X_train, y_train, epochs=100, batch_size=batch_size,\n",
    "                    verbose=2, validation_split=0.1, callbacks=[mc])\n"
   ]
  },
  {
   "cell_type": "code",
   "execution_count": 11,
   "metadata": {},
   "outputs": [],
   "source": [
    "model.load_weights('./log/model.h5')"
   ]
  },
  {
   "cell_type": "code",
   "execution_count": 12,
   "metadata": {},
   "outputs": [
    {
     "name": "stdout",
     "output_type": "stream",
     "text": [
      "14/14 [==============================] - 2s 104ms/step\n",
      "              precision    recall  f1-score   support\n",
      "\n",
      "           0     0.7771    0.9271    0.8455       425\n",
      "           1     0.9069    0.7277    0.8075       415\n",
      "\n",
      "    accuracy                         0.8286       840\n",
      "   macro avg     0.8420    0.8274    0.8265       840\n",
      "weighted avg     0.8412    0.8286    0.8267       840\n",
      "\n"
     ]
    }
   ],
   "source": [
    "y_pred = model.predict(X_test, verbose=1, batch_size=batch_size)\n",
    "y_pred = [y >= 0.5 for y in y_pred]\n",
    "\n",
    "print(metrics.classification_report(y_test, y_pred, digits=4))\n",
    "with open('log/report.txt', 'w') as f:\n",
    "  f.write(str(metrics.classification_report(y_test, y_pred, digits=4)))\n"
   ]
  },
  {
   "cell_type": "code",
   "execution_count": 13,
   "metadata": {},
   "outputs": [
    {
     "data": {
      "image/png": "[encoded data removed]",
      "text/plain": [
       "<Figure size 432x288 with 2 Axes>"
      ]
     },
     "metadata": {
      "needs_background": "light"
     },
     "output_type": "display_data"
    }
   ],
   "source": [
    "fig, ax = plt.subplots(2, 1)\n",
    "ax[0].plot(history.history['loss'], color='b', label=\"Training loss\")\n",
    "ax[0].plot(history.history['val_loss'], color='r',\n",
    "           label=\"validation loss\", axes=ax[0])\n",
    "legend = ax[0].legend(loc='best', shadow=True)\n",
    "\n",
    "ax[1].plot(history.history['accuracy'], color='b', label=\"Training accuracy\")\n",
    "ax[1].plot(history.history['val_accuracy'],\n",
    "           color='r', label=\"Validation accuracy\")\n",
    "legend = ax[1].legend(loc='best', shadow=True)"
   ]
  },
  {
   "cell_type": "code",
   "execution_count": null,
   "metadata": {},
   "outputs": [],
   "source": []
  }
 ],
 "metadata": {
  "kernelspec": {
   "display_name": "Python 3.8.10 64-bit",
   "language": "python",
   "name": "python3"
  },
  "language_info": {
   "codemirror_mode": {
    "name": "ipython",
    "version": 3
   },
   "file_extension": ".py",
   "mimetype": "text/x-python",
   "name": "python",
   "nbconvert_exporter": "python",
   "pygments_lexer": "ipython3",
   "version": "3.8.10"
  },
  "orig_nbformat": 4,
  "vscode": {
   "interpreter": {
    "hash": "e7370f93d1d0cde622a1f8e1c04877d8463912d04d973331ad4851f04de6915a"
   }
  }
 },
 "nbformat": 4,
 "nbformat_minor": 2
}
