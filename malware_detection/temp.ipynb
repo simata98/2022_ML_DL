{
 "cells": [
  {
   "cell_type": "code",
   "execution_count": 2,
   "metadata": {},
   "outputs": [],
   "source": [
    "import os\n",
    "os.environ['TF_CPP_MIN_LOG_LEVEL'] = '3'\n",
    "\n",
    "from pathlib import Path\n",
    "import numpy as np\n",
    "from matplotlib import pyplot as plt\n",
    "from sklearn import metrics\n",
    "from sklearn.model_selection import train_test_split\n",
    "from tensorflow.keras.preprocessing.text import Tokenizer\n",
    "from tensorflow.keras.preprocessing.sequence import pad_sequences\n",
    "from tensorflow.keras.models import Sequential\n",
    "from tensorflow.keras.layers import Dense, Embedding, LSTM, SpatialDropout1D, Bidirectional\n",
    "from tensorflow.keras.callbacks import ModelCheckpoint\n",
    "import itertools\n"
   ]
  },
  {
   "cell_type": "code",
   "execution_count": 3,
   "metadata": {},
   "outputs": [],
   "source": [
    "max_length = 0\n",
    "corpus = list()\n",
    "labels = list()\n",
    "for _, _, files in os.walk(Path('./temp')):\n",
    "    for file in files:\n",
    "        try:\n",
    "            with open(Path('./temp/' + file), 'r') as f:\n",
    "                lines = f.read().split('\\n')[:-1]\n",
    "        except Exception as e:\n",
    "            print(e, file)\n",
    "        doc = ''\n",
    "        for line in lines:\n",
    "            if not line.startswith('From function'):\n",
    "                doc += ' ' + line\n",
    "        max_length = max(max_length, len(doc))\n",
    "        corpus.append(doc)\n",
    "        labels.append(0)"
   ]
  },
  {
   "cell_type": "code",
   "execution_count": 4,
   "metadata": {},
   "outputs": [
    {
     "name": "stdout",
     "output_type": "stream",
     "text": [
      "15005\n"
     ]
    }
   ],
   "source": [
    "print(max_length)\n",
    "labels = np.array(labels)"
   ]
  },
  {
   "cell_type": "code",
   "execution_count": 5,
   "metadata": {},
   "outputs": [
    {
     "name": "stdout",
     "output_type": "stream",
     "text": [
      "[' li addu addiu sw sw sw bal nop jal nop bal nop jal nop lw jr addiu lui lw jr addiu lui lw jr addiu lui lw jr addiu lui lw jr addiu lui lw jr addiu lui lw jr addiu lui lw jr addiu lui lw jr addiu lui lw jr addiu lui lw jr addiu lui lw jr addiu lui lw jr addiu lui lw jr addiu lui lw jr addiu lui lw jr addiu lui lw jr addiu lui lw jr addiu lui lw jr addiu lui lw jr addiu lui lw jr addiu lui lw jr addiu lui lw jr addiu lui lw jr addiu lui lw jr addiu lui lw jr addiu lui lw jr addiu lui lw jr addiu lui lw jr addiu lui lw jr addiu lui lw jr addiu lui lw jr addiu lui lw jr addiu lui lw jr addiu lui lw jr addiu lui lw jr addiu lui lw jr addiu lui lw jr addiu lui lw jr addiu lui lw jr addiu lui lw jr addiu lui lw jr addiu lui lw jr addiu lui lw jr addiu lui lw jr addiu lui lw jr addiu lui lw jr addiu lui lw jr addiu lui lw jr addiu lui lw jr addiu lui lw jr addiu lui lw jr addiu lui lw jr addiu lui lw jr addiu lui lw jr addiu lui lw jr addiu lui lw jr addiu lui lw jr addiu lui lw jr addiu lui lw jr addiu lui lw jr addiu lui lw jr addiu lui lw jr addiu lui lw jr addiu lui lw jr addiu lui lw jr addiu lui lw jr addiu lui lw jr addiu lui lw jr addiu lui lw jr addiu lui lw jr addiu lui lw jr addiu lui lw jr addiu addiu sw sw move move lui sw sw addiu la li lui lui addiu sw sw sw sw sw sw jal la move lui la blez lui addiu addiu lw beqzl addiu lw jal lw beqz lui lw move jal la bnezl lui addiu beqz addiu lw move jal move lui sw move j addiu move jal addiu bnez move addiu beqz addiu lw move j addiu jal addiu bnez move addiu beqz addiu lw move j sw jal move bnezl addiu addiu beqz addiu lw j move move addiu bgtzl addiu lui lw beqz move lw beqz move jal li lui sw li li sw beq sh lui addiu li lui lui sw jal sw addiu jal li addiu jal li lw bnez lui li sw move move move lui lui lw bnezl li beqz lui lw lw slt beqz slti lw beq addiu move move lui move jal la lui move la jal sw beqz nop move move jal move move lw move sltu bnez lui bnel lw lw sltu bnezl sw lw bnezl lw lw bnez move lui lw lw slt bnez addiu beqzl move sw sw addiu j move move j addiu beqzl lui jal nop li beq sw bnez move move move jal move lui jal lw jal lw lui lui move la la move jal sw li jal move li jal move li jal move lw bnez nop jal move jal move jal nop lw move lw lw lw lw lw lw lw lw lw jr addiu sw j sw beqz nop addiu li li jal sh blez lui lui lw lui addiu li jal move bltz lui addiu jal move bnez move lui lui lw j la bnez nop lw bnez lui jal move j lui jal li j lui move sw jal sw li lw beq lw andi beqz lui addiu sw jal sw addiu jal li li addiu jal move jal nop li lw beq lw bnezl lw move li jal addiu li jal move li jal move lw beqz move jal nop lw jal move jal move jal move lui lui lw la lui jal la j lui jal addiu bnez lui lw jal move beqz move jal addiu lw li bne lui lw lui lui la jal la j nop lui lui lui lw la la jal nop j li move jal move sw lw addiu sw li addiu jal move j nop lui lw jal sw jal lw lw lui lui move la la jal move j li move move j move lw lui lui la jal la li sw j move jal nop move jal move j nop lui jal lw jal lw lui lui move la la jal move lui jal la j li j addiu jal nop beqz lui lui lui lw la j la lui lw lui lui la jal la li j sw li move la lw addiu li and addiu la la sw sw jal sw b nop addiu sw lui sw sw sw sw lbu bnez lui lui la la lui subu sra j addiu sw sll addu lw jalr nop lw sltu bnez addiu li sb lw lw lw lw lw jr addiu lui lw beqz nop li beqz nop jr la jr nop addiu sw sw sw sw move j move sll addu lw jal addiu lw addu jal lw lw slt bnez lw jal nop jal lw move lw lw lw lw j addiu lui addiu la sw sw jal move beqz move lui move jal la li li movn lw move lw jr addiu addiu sw sw sw sw sw move move j move sll addu lw jal move beqzl lw addiu lw slt bnezl lw lw lw lw lw lw jr addiu addiu sw sw move move move li sw sw sw jal sw move beqz li sb lw lw addiu sw jal sll lw move addiu sw sll jal addu sw lw lw addiu addiu move sll jal addu lui sw move jal la beqzl lw li sb move lw lw lw lw lw lw jr addiu lw addiu sw jal sll lw lui addiu sw la sll jal addu sw jal move move lw lw addiu sll move jal addu jal move sw jal move j li addiu sw move li sw sw sw sw jal sw move lw move sw lw sw jal sll sw lw jal sw sw lw lw jal move j lw sll addu lw lw jal addu sw lw lw addu addu lw jal addiu sw lw slt bnezl lw lw move lw lw lw lw lw jr addiu addiu sw move li sw sw sw sw jal move move beqz move li jal sb move jal move sw move sw sw sw jal addiu move subu move sw move jal subu blez lw move jal move jal move addiu nor addu bgtz addu lw move lw lw lw lw jr addiu addiu sw move lui sw la move li sw sw sw jal move bnez li addiu move lui move la jal li bnez nop addiu li move jal move bnez li sw move lw move lw lw lw lw jr addiu beqz li j lw lui lw addiu sw sw sw jal sw li jal move li move jal lui li move jal lui lw la addiu jal li jal move bne lw lui addiu lw lw lw lw la j addiu addiu li sw sw sw sw beq sw li beq li beq lui lw lw lw lw lw jr addiu lui lw la la jal nop jal nop jal move lui lw lui sltiu sw bnez lw la lui lui la jal addiu lw bnez lui lw li bne lw lw bnez lw lui lw jal lw bne lw bne lw lui lw la j addiu lui lui lui la li li move jal li blez lw bne lw j sw move move jal move j sw lw bnez lui lw li bne lw lw bnez lw lui lw jal lw bne lw bne lw lui lui lw j la lui j la addiu sw sw sw sw sw sw move move move li j li lw move jal addu beq addiu lw slt bnez mul move lw lw lw lw lw lw j addiu addiu sw sw sw sw sw sw sw sw sw sw move move move li li li li lw slt beqz mul j move lw move jal addu bne addiu lw addu lw slt bnez mul jal nop lw addu lw and j addiu lw move lw lw lw lw lw lw lw lw lw jr addiu addiu sw jal sw lui lw lw lui move la jal sw lw jr addiu addiu addiu sw sw jal sw jal nop move li beq lui bnez nop jal lw jal li lw jal li la lui move la jal move jal li jal lw lw lui jal la move addiu li li jal move lui addiu la jal sb beqz lui la move jal sw move move jal move j move lw lui lui la jal la li lw lw lw jr addiu lui j la addiu lui addiu la sw jal sw lui addiu jal la move move beqz move move li li jal addiu jal move move addiu jal move move move lw move move lw jr addiu addiu lui sw li sw sw sw move sw sw sw sw sw sw sw jal sh sw li li li li jal sw move li beq lui li move li li addiu jal sw bnez lui li beq move addiu jal li bnez lui lw move lw lw lw lw lw lw jr addiu addiu jal li beqz move lui jal lw jal lw lui move la la jal move move jal li j lw jal lw lw jal move move lui lui la addiu jal move li move li li addiu sw jal sw beqzl li lw jal lw lui move la addiu jal move j li jal lw jal lw lui move j la jal lw jal lw lui lui move la la jal move j lw addiu sw sw sw sw sw move move move beqz move lw bnezl move jal li sw sw sw sw sw sw lw lw lw lw lw jr addiu jal li j sw addiu move bnez sw j lui beql lw move lw bnezl lw lw beq move lw jr addiu beqz lw sw lw beqz nop lw sw beqz nop lw lw sltu bnez lw bne nop lw sltu bnezl sw beqz nop lw addiu sw bne move j lw lw bnezl move jal sw j lw sw j sw bnezl lw lw beqz nop j lw lw lui lui la jal la j move addiu sw jal nop beqzl lui lw jr addiu lui lw jal la jal li addiu sw jal nop beqzl lui lw jr addiu lui lw jal la jal li nop nop li beq nop slti bnez li li beq nop li beq nop jr move bne nop jr li addiu sw sw lw move lw addiu slt bnez move addiu sw lw sw jal sw lw lw sw lw lw addu sb lw lw addu sb lw addiu sw lw lw jr addiu addiu sw sw sw sw sw sw sw sw lb move move sw move sw sw jal sw lui bnez lw j lw beqzl move addiu lb sll addu lhu andi bnez nop beqz move li beq li bnel lb j addiu beqz lw jal move bnez addiu xori sltiu addu lb addiu addiu jal addiu lb lw sll addu lhu andi beqz nop j lw beqz nop addiu lb sll addu lhu andi bnez nop bnezl sw lw lw lw lw lw lw lw lw lw jr addiu addiu addiu jal addiu j addiu li li j li beq li beq xori addiu addiu jal addiu beqz addiu lb bne nop xori j movz j movz lb addiu addiu addiu jal addiu j move addiu j li addiu sw sw sw sw sw jal sw jal move move addiu jal move lw li andi beq move li beqz li beq addiu jal nop sw move sb li jal move sb lw beqz addiu bnel move jal li move bnez nop move jal li jal move lw lw lw lw lw lw jr addiu addiu sw sw sw sw sw sw sw sw sw sw move beqz move lb beqzl lw beqzl lw lb beqz move move move li lb beqz nop addu lb beql addiu move j addiu move lb bnezl addiu subu blez move move jal addu move sb jal move lw move lw lw lw lw lw lw lw lw lw jr addiu addu lb bnezl addiu subu addu sb addiu j move beqz move jal sw lw move jal move subu move mul subu addiu jal addu move move move blez move lb bnezl addiu subu blez move move move jal addu move move jal move addu addu j addiu addiu sw sw sw sw sw sw sw sw sw move move move li move jal li beqz move addiu move jal li beqz subu jal addiu addu move move move addiu jal sb sb move jal addiu beqz sb move move jal move move move jal move j move move lui lui lw lw lw lw lw lw lw lw lw la la j addiu addiu sw sw sw sw sw move lw jal li lw move sltiu beqz lw lui sll la addu lw jr nop beqz li lw jal move sltiu xori xori movz lw move lw lw lw lw jr addiu beqz li lw addiu jal li addiu move move move jal sw lw sltiu xori xori addiu jal movz j lw lw lui move jal la beqz sltu lui move jal la sltiu li j movz addiu sw sw sw sw sw sw sw sw sw sw move move move li j li lw move jal addu bne addiu lw slt bnez mul lw move jal sll move move j move sll addu lw lw move sw jal sw lw jal move addiu addiu addu jal sw lw move move move jal addu li sb lw lw addu move jal addiu sw move jal addiu lw slt bnezl lw lui sw move la lui lw slt beqzl move lw sll addu lw sltiu beqzl addiu lui sll la addu lw jr nop lw lw jal lw move jal move move jal move move jal move move jal move move jal move move jal sw jal move j addiu lw beqzl addiu li j move sll addu lw jal addiu lw jal addiu lw slt bnezl lw jal move lw move lw lw lw lw lw lw lw lw lw jr addiu lw beqzl addiu j li lw lw lw jal sw move jal move move jal move move jal move lw move li beq move jal nop lw move li jal nop j move lw lw jal lw move jal move move jal move move jal move move move li jal move move jal move j move lw move lw move jal lw sw lui move jal addiu li sw beqz sw move jal move beqz sw move jal addiu beqz lui move jal la lui move jal la lw move move ori ori jal movn move jal move jal lw lw jal sw lw li and li andi and sll andi srl or sll move move or jal or move move jal sw j nop lw jal lw li beql sw bnez move jal move move jal move move j move jal move sw addiu lw bnez nop move jal move jal li lw jal lw move jal move move jal move andi sra j sw j move sll addu lui lw lw la jal addiu lw slt bnezl lw sw j addiu lw jal lw sw lw addu lw jal lw beqz move move jal li beqz nop sb jal move beqz move j nop lw li lw lw jal addiu j sw j move addiu jal move li lbu xor movn sw j addiu jal nop lw move j li j addiu lw move li slt beqz nop lw sll addu lw beql lw j addiu addiu ori j sw jr nop addiu sw sw sw sw sw sw sw sw sw move move li li lw slt beqz mul move lw addu lw slt beqzl move lw sll addu lw bnez move j addiu jal nop lw addu lw addu lw addu lw bnez addiu jal move j addiu lw addiu addu jal lw lw addu lw addu jal lw lw addu lw slt bnezl mul lw jal addiu lw addu jal lw j lw lw lw lw lw lw lw lw lw lw lw j addiu addiu sw lui sw la addiu li sw sw sw sw sw sw sw sw sw jal sw lui addiu la jal li lw beqz li lw li lw lw addiu mul lui addu sw lw lw addiu mul lui addu sw lw lw addiu mul lui addu sw lw move lw lw addiu mul addiu addu sw lui addiu la lw jal addiu beqz move lb li beq li li beql addiu sltiu beqz move sll addu lw jr nop lui move jal la beqz move move jal move beqz move lui move jal la bnez lui move li jal move lw lb beqz nop beqzl lw beqz move lw lw lw lw lw lw lw lw lw lw jr addiu beq nop addiu sw lw lb bnez nop jal move j move la jal move bnez nop lw jal addiu move addiu jal move beqz lui lw lui lui la la jal move j nop lw li lw lw addiu mul move addu lw li addiu mul lw addu jal move sw j li lw li lw lw addiu mul li addu lw addiu sw lw lw addiu mul addu lw lw jal mul sw lw lw lw addiu mul addu lw lw addiu mul li addu jal move sw j move move jal addiu lui bnez lw lw li addiu sw mul jal lw sw lw lw lw addiu mul addu sw lw lw addiu mul addu sw lw lw addiu mul addu sw lw lw lw addiu mul addu sw move j move lw li lw lw addiu mul li addu lw lw addiu mul addiu addu li sw j move jal move beqz addiu addiu lw bnez nop lw li lw lw addiu mul li addu lw lw addiu mul addu lw li beq move j li lw li addiu mul lw addu lw addiu sw lw lw addiu mul addu lw lw sll jal sw sw lw lw lw lw addiu mul addiu addu lw lw addiu sll addu sw lw lw addiu mul sw addu lw lw addiu sll addu li j sw jal move beqz addiu lw addiu sw lw bnez nop lw li lw lw addiu mul addu lw lw addiu sll addu lw li beq move lw li mul addu lw blez lw li lw lw addiu mul addiu addu lw lw addiu addiu sll addu sll sw sw jal sw lw move sw lw lw lw lw addiu mul lw addu lw lw addiu sll addu lw sll addu sw lw li lw lw addiu mul addu lw lw addiu sll addu lw sll lw addu addiu sw sw sw jal sw lw li sw lw lw lw lw addiu mul addu lw lw addiu sll addu lw move addu lw sw move jal sw lw lw beqz lw move lui move la sw jal sw lw sw lw lw addiu bne lw j nop lw li lw lw addiu mul addu lw lw addiu li mul addu mul addu lw j sw lw jal sw jal lw j lw li bne li lw lw addiu mul addu lw lw addiu sll addu li sw jal sw lw sw lw lw lw lw addiu mul lw addu lw lw addiu sll addu lw addiu jal sw lw sw j sw move move jal sw beqz lw move jal addiu beqz lw lw lb addiu beqz sw move move jal addiu lw li sw lw lw lw lw addiu mul move addu lw lw addiu sll addu lw lui addu lw la jal sw lw li sw lw lw lw lw addiu mul addu lw lw addiu sll addu lw addiu jal sw lw li sw lw lw lw lw addiu mul addu lw lw addiu sll addu lw lw addu addiu jal sw lw sw lw sw lw li lw lw addiu mul lw addu lw lw addiu sll addu lw addu lw bnez sw lw li lw lw addiu mul lw addu lw lw addiu sll addu lw addu jal lw lw lw lw lw addiu mul addu lw lw addiu sll addu lw addu bnez sw j lw lui lw lui lui la jal la li j li lui lw lui lui la jal la j nop bnez nop bnez lw lw addiu j sw lw li lw lw addiu mul lw addu lw lw addiu sll addu li mul addu lw j sw jal li sw li move jal sw sw j move lui lw lui lui la jal la lw li lw lw addiu sw jal mul sw lw lw lw addiu mul addu sw lw lw addiu mul addu sw lw lw addiu mul addu sw lw lw lw addiu mul addu sw j move lui lw lui lui la la jal move j li lw lui lui la jal la j li lui lw lui lui la jal la j move addiu sw move sw jal addiu bnez lui lw jal lw beqzl lui sw jal addiu move lw lw jr addiu lui lw la lui jal la j li lui lw j la addiu sw move move sw sw sw jal li sw beq li move jal addiu bnez lw lw sw sw move li li jal sw sw beq move lw move lw lw lw jr addiu jal nop j lw lw jal li j lw addiu sw sw move lw jal lw jal lw lw move lw jr addiu addiu sw lui sw li sw j la jalr addiu lw bne lw lw lw jr addiu li addu addiu sw sw sw bal nop jal nop lw jr addiu eret eret eret eret eret eret eret eret eret eret eret eret eret eret eret eret eret eret eret eret eret eret eret eret eret eret eret eret eret eret eret eret eret eret eret eret eret eret eret eret eret eret eret eret eret eret eret eret eret eret eret eret eret eret eret eret eret eret eret eret eret eret eret eret eret eret eret eret eret eret eret']\n"
     ]
    }
   ],
   "source": [
    "print(corpus)"
   ]
  },
  {
   "cell_type": "code",
   "execution_count": null,
   "metadata": {},
   "outputs": [],
   "source": []
  }
 ],
 "metadata": {
  "interpreter": {
   "hash": "e7370f93d1d0cde622a1f8e1c04877d8463912d04d973331ad4851f04de6915a"
  },
  "kernelspec": {
   "display_name": "Python 3.8.10 64-bit",
   "language": "python",
   "name": "python3"
  },
  "language_info": {
   "codemirror_mode": {
    "name": "ipython",
    "version": 3
   },
   "file_extension": ".py",
   "mimetype": "text/x-python",
   "name": "python",
   "nbconvert_exporter": "python",
   "pygments_lexer": "ipython3",
   "version": "3.8.10"
  },
  "orig_nbformat": 4
 },
 "nbformat": 4,
 "nbformat_minor": 2
}
