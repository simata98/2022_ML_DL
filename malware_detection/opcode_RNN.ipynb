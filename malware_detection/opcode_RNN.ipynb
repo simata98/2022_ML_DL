{
 "cells": [
  {
   "cell_type": "code",
   "execution_count": 2,
   "metadata": {},
   "outputs": [],
   "source": [
    "import os\n",
    "os.environ['TF_CPP_MIN_LOG_LEVEL'] = '3'\n",
    "\n",
    "from pathlib import Path\n",
    "import numpy as np\n",
    "from matplotlib import pyplot as plt\n",
    "from sklearn import metrics\n",
    "from sklearn.model_selection import train_test_split\n",
    "from tensorflow.keras.preprocessing.text import Tokenizer\n",
    "from tensorflow.keras.preprocessing.sequence import pad_sequences\n",
    "from tensorflow.keras.models import Sequential\n",
    "from tensorflow.keras.layers import Dense, Embedding, LSTM, SpatialDropout1D, Bidirectional\n",
    "from tensorflow.keras.callbacks import ModelCheckpoint\n",
    "import itertools"
   ]
  },
  {
   "cell_type": "code",
   "execution_count": 3,
   "metadata": {},
   "outputs": [],
   "source": [
    "max_length = 0\n",
    "corpus = list()\n",
    "labels = list()\n",
    "\n",
    "with open(Path('./output/benign/all_benign.txt'), 'r') as f:\n",
    "  lines = f.read().split('\\n')[:-1]\n",
    "  # print(lines[0][33:])\n",
    "for line in lines:\n",
    "  doc = line[33:]\n",
    "  corpus.append(doc)\n",
    "  labels.append(0)\n",
    "  "
   ]
  },
  {
   "cell_type": "code",
   "execution_count": 4,
   "metadata": {},
   "outputs": [],
   "source": [
    "with open(Path('./output/malware/all_malware.txt'), 'r') as f:\n",
    "  lines = f.read().split('\\n')[:-1]\n",
    "  # print(lines[0][33:])\n",
    "for line in lines:\n",
    "  doc = line[33:]\n",
    "  corpus.append(doc)\n",
    "  labels.append(1)"
   ]
  },
  {
   "cell_type": "code",
   "execution_count": 5,
   "metadata": {},
   "outputs": [],
   "source": [
    "labels = np.array(labels)"
   ]
  },
  {
   "cell_type": "code",
   "execution_count": 8,
   "metadata": {},
   "outputs": [
    {
     "name": "stdout",
     "output_type": "stream",
     "text": [
      "557579\n"
     ]
    }
   ],
   "source": [
    "print(len(max(corpus)))"
   ]
  },
  {
   "cell_type": "code",
   "execution_count": 10,
   "metadata": {},
   "outputs": [
    {
     "name": "stdout",
     "output_type": "stream",
     "text": [
      "(2800, 512000)\n"
     ]
    }
   ],
   "source": [
    "tokenizer = Tokenizer(split=' ')\n",
    "tokenizer.fit_on_texts(corpus)\n",
    "X = tokenizer.texts_to_sequences(corpus)\n",
    "X = pad_sequences(X, maxlen=512000)\n",
    "print(X.shape)"
   ]
  },
  {
   "cell_type": "code",
   "execution_count": 11,
   "metadata": {},
   "outputs": [
    {
     "name": "stdout",
     "output_type": "stream",
     "text": [
      "(2800, 64, 8000)\n"
     ]
    }
   ],
   "source": [
    "X = X.reshape(-1, 64, 8000)\n",
    "print(X.shape)"
   ]
  },
  {
   "cell_type": "code",
   "execution_count": 7,
   "metadata": {},
   "outputs": [
    {
     "name": "stdout",
     "output_type": "stream",
     "text": [
      "노드 개수: 26, 한 개 밖에 없는 노드: 0\n"
     ]
    }
   ],
   "source": [
    "vocab_size = len(tokenizer.word_index) + 1\n",
    "print(f'노드 개수: {vocab_size}, 한 개 밖에 없는 노드:', end=' ')\n",
    "unique_word = 0\n",
    "for k in tokenizer.word_docs:\n",
    "  if tokenizer.word_docs[k] == 1:\n",
    "    unique_word += 1\n",
    "print(unique_word)"
   ]
  },
  {
   "cell_type": "code",
   "execution_count": 12,
   "metadata": {},
   "outputs": [
    {
     "name": "stdout",
     "output_type": "stream",
     "text": [
      "Model: \"sequential\"\n",
      "_________________________________________________________________\n",
      "Layer (type)                 Output Shape              Param #   \n",
      "=================================================================\n",
      "simple_rnn (SimpleRNN)       (None, 64)                516160    \n",
      "_________________________________________________________________\n",
      "dense (Dense)                (None, 1)                 65        \n",
      "=================================================================\n",
      "Total params: 516,225\n",
      "Trainable params: 516,225\n",
      "Non-trainable params: 0\n",
      "_________________________________________________________________\n",
      "None\n"
     ]
    }
   ],
   "source": [
    "from tensorflow.keras import layers, models\n",
    "\n",
    "model = models.Sequential()\n",
    "model.add(layers.SimpleRNN(64, input_shape = (64, 8000)))\n",
    "model.add(layers.Dense(1, activation='sigmoid'))\n",
    "model.compile(loss='binary_crossentropy',\n",
    "              optimizer='adam', metrics=['accuracy'])\n",
    "print(model.summary())"
   ]
  },
  {
   "cell_type": "code",
   "execution_count": 13,
   "metadata": {},
   "outputs": [
    {
     "name": "stdout",
     "output_type": "stream",
     "text": [
      "Train을 (2520, 64, 8000)만큼, Test를 (280, 64, 8000)만큼 진행\n"
     ]
    }
   ],
   "source": [
    "X_train, X_test, y_train, y_test = train_test_split(X, labels, test_size=0.1, random_state=42)\n",
    "print(f'Train을 {X_train.shape}만큼, Test를 {X_test.shape}만큼 진행')"
   ]
  },
  {
   "cell_type": "code",
   "execution_count": 15,
   "metadata": {},
   "outputs": [
    {
     "data": {
      "application/vnd.jupyter.widget-view+json": {
       "model_id": "8e6758c206da48ffb0aef1317d93bce7",
       "version_major": 2,
       "version_minor": 0
      },
      "text/plain": [
       "Training:   0%|           0/100 ETA: ?s,  ?epochs/s"
      ]
     },
     "metadata": {},
     "output_type": "display_data"
    },
    {
     "name": "stdout",
     "output_type": "stream",
     "text": [
      "Epoch 1/100\n"
     ]
    },
    {
     "data": {
      "application/vnd.jupyter.widget-view+json": {
       "model_id": "ce8f27901db64af49db00119b4fa1ceb",
       "version_major": 2,
       "version_minor": 0
      },
      "text/plain": [
       "0/20           ETA: ?s - "
      ]
     },
     "metadata": {},
     "output_type": "display_data"
    },
    {
     "name": "stdout",
     "output_type": "stream",
     "text": [
      "Epoch 2/100\n"
     ]
    },
    {
     "data": {
      "application/vnd.jupyter.widget-view+json": {
       "model_id": "3f5b7b7602d34d8689e96ff3a14b51fb",
       "version_major": 2,
       "version_minor": 0
      },
      "text/plain": [
       "0/20           ETA: ?s - "
      ]
     },
     "metadata": {},
     "output_type": "display_data"
    },
    {
     "name": "stdout",
     "output_type": "stream",
     "text": [
      "Epoch 3/100\n"
     ]
    },
    {
     "data": {
      "application/vnd.jupyter.widget-view+json": {
       "model_id": "a4899662800f41a09299984a91fef9e1",
       "version_major": 2,
       "version_minor": 0
      },
      "text/plain": [
       "0/20           ETA: ?s - "
      ]
     },
     "metadata": {},
     "output_type": "display_data"
    },
    {
     "name": "stdout",
     "output_type": "stream",
     "text": [
      "Epoch 4/100\n"
     ]
    },
    {
     "data": {
      "application/vnd.jupyter.widget-view+json": {
       "model_id": "99c617a67ada42f6b481477ac80364cf",
       "version_major": 2,
       "version_minor": 0
      },
      "text/plain": [
       "0/20           ETA: ?s - "
      ]
     },
     "metadata": {},
     "output_type": "display_data"
    },
    {
     "name": "stdout",
     "output_type": "stream",
     "text": [
      "Epoch 5/100\n"
     ]
    },
    {
     "data": {
      "application/vnd.jupyter.widget-view+json": {
       "model_id": "7076626abd444389a80a19f1a16be4a4",
       "version_major": 2,
       "version_minor": 0
      },
      "text/plain": [
       "0/20           ETA: ?s - "
      ]
     },
     "metadata": {},
     "output_type": "display_data"
    },
    {
     "name": "stdout",
     "output_type": "stream",
     "text": [
      "Epoch 6/100\n"
     ]
    },
    {
     "data": {
      "application/vnd.jupyter.widget-view+json": {
       "model_id": "5ca67381d0a04be6bbe6027dd9f89f06",
       "version_major": 2,
       "version_minor": 0
      },
      "text/plain": [
       "0/20           ETA: ?s - "
      ]
     },
     "metadata": {},
     "output_type": "display_data"
    },
    {
     "name": "stdout",
     "output_type": "stream",
     "text": [
      "Epoch 7/100\n"
     ]
    },
    {
     "data": {
      "application/vnd.jupyter.widget-view+json": {
       "model_id": "00acc2bb85084fb4b04dd609773a69ea",
       "version_major": 2,
       "version_minor": 0
      },
      "text/plain": [
       "0/20           ETA: ?s - "
      ]
     },
     "metadata": {},
     "output_type": "display_data"
    },
    {
     "name": "stdout",
     "output_type": "stream",
     "text": [
      "Epoch 8/100\n"
     ]
    },
    {
     "data": {
      "application/vnd.jupyter.widget-view+json": {
       "model_id": "4a89f434f7264e71bb02b9c80a165ddf",
       "version_major": 2,
       "version_minor": 0
      },
      "text/plain": [
       "0/20           ETA: ?s - "
      ]
     },
     "metadata": {},
     "output_type": "display_data"
    },
    {
     "name": "stdout",
     "output_type": "stream",
     "text": [
      "Epoch 9/100\n"
     ]
    },
    {
     "data": {
      "application/vnd.jupyter.widget-view+json": {
       "model_id": "bffab39da7d44476bc5e0cdde45be4c8",
       "version_major": 2,
       "version_minor": 0
      },
      "text/plain": [
       "0/20           ETA: ?s - "
      ]
     },
     "metadata": {},
     "output_type": "display_data"
    },
    {
     "name": "stdout",
     "output_type": "stream",
     "text": [
      "Epoch 10/100\n"
     ]
    },
    {
     "data": {
      "application/vnd.jupyter.widget-view+json": {
       "model_id": "da6ca26bd86f4417b46411ee230b3c63",
       "version_major": 2,
       "version_minor": 0
      },
      "text/plain": [
       "0/20           ETA: ?s - "
      ]
     },
     "metadata": {},
     "output_type": "display_data"
    },
    {
     "name": "stdout",
     "output_type": "stream",
     "text": [
      "Epoch 11/100\n"
     ]
    },
    {
     "data": {
      "application/vnd.jupyter.widget-view+json": {
       "model_id": "3ac2cee7cbc34d07ad9ab803fa9c875c",
       "version_major": 2,
       "version_minor": 0
      },
      "text/plain": [
       "0/20           ETA: ?s - "
      ]
     },
     "metadata": {},
     "output_type": "display_data"
    },
    {
     "name": "stdout",
     "output_type": "stream",
     "text": [
      "Epoch 12/100\n"
     ]
    },
    {
     "data": {
      "application/vnd.jupyter.widget-view+json": {
       "model_id": "435862a251664373b3da24fc0070a11f",
       "version_major": 2,
       "version_minor": 0
      },
      "text/plain": [
       "0/20           ETA: ?s - "
      ]
     },
     "metadata": {},
     "output_type": "display_data"
    },
    {
     "name": "stdout",
     "output_type": "stream",
     "text": [
      "Epoch 13/100\n"
     ]
    },
    {
     "data": {
      "application/vnd.jupyter.widget-view+json": {
       "model_id": "f67dc694d9b0470e92e0318f9c181858",
       "version_major": 2,
       "version_minor": 0
      },
      "text/plain": [
       "0/20           ETA: ?s - "
      ]
     },
     "metadata": {},
     "output_type": "display_data"
    },
    {
     "name": "stdout",
     "output_type": "stream",
     "text": [
      "Epoch 14/100\n"
     ]
    },
    {
     "data": {
      "application/vnd.jupyter.widget-view+json": {
       "model_id": "73e376922613485a984892b7c67069ef",
       "version_major": 2,
       "version_minor": 0
      },
      "text/plain": [
       "0/20           ETA: ?s - "
      ]
     },
     "metadata": {},
     "output_type": "display_data"
    },
    {
     "name": "stdout",
     "output_type": "stream",
     "text": [
      "Epoch 15/100\n"
     ]
    },
    {
     "data": {
      "application/vnd.jupyter.widget-view+json": {
       "model_id": "7bb38771b3f94a6b8d9a7ade6abd57bd",
       "version_major": 2,
       "version_minor": 0
      },
      "text/plain": [
       "0/20           ETA: ?s - "
      ]
     },
     "metadata": {},
     "output_type": "display_data"
    },
    {
     "name": "stdout",
     "output_type": "stream",
     "text": [
      "Epoch 16/100\n"
     ]
    },
    {
     "data": {
      "application/vnd.jupyter.widget-view+json": {
       "model_id": "6a32cbf9591c40c29c07dfaa22d43730",
       "version_major": 2,
       "version_minor": 0
      },
      "text/plain": [
       "0/20           ETA: ?s - "
      ]
     },
     "metadata": {},
     "output_type": "display_data"
    },
    {
     "name": "stdout",
     "output_type": "stream",
     "text": [
      "Epoch 17/100\n"
     ]
    },
    {
     "data": {
      "application/vnd.jupyter.widget-view+json": {
       "model_id": "850e3ace2fe643339aa139231c4b01e5",
       "version_major": 2,
       "version_minor": 0
      },
      "text/plain": [
       "0/20           ETA: ?s - "
      ]
     },
     "metadata": {},
     "output_type": "display_data"
    },
    {
     "name": "stdout",
     "output_type": "stream",
     "text": [
      "Epoch 18/100\n"
     ]
    },
    {
     "data": {
      "application/vnd.jupyter.widget-view+json": {
       "model_id": "1e7750fd073d42a98814588ca6fc04d2",
       "version_major": 2,
       "version_minor": 0
      },
      "text/plain": [
       "0/20           ETA: ?s - "
      ]
     },
     "metadata": {},
     "output_type": "display_data"
    },
    {
     "name": "stdout",
     "output_type": "stream",
     "text": [
      "Epoch 19/100\n"
     ]
    },
    {
     "data": {
      "application/vnd.jupyter.widget-view+json": {
       "model_id": "b168259ac51a4177941fb1d067f4926e",
       "version_major": 2,
       "version_minor": 0
      },
      "text/plain": [
       "0/20           ETA: ?s - "
      ]
     },
     "metadata": {},
     "output_type": "display_data"
    },
    {
     "name": "stdout",
     "output_type": "stream",
     "text": [
      "Epoch 20/100\n"
     ]
    },
    {
     "data": {
      "application/vnd.jupyter.widget-view+json": {
       "model_id": "f64071e0540941d29063f9b8f3733927",
       "version_major": 2,
       "version_minor": 0
      },
      "text/plain": [
       "0/20           ETA: ?s - "
      ]
     },
     "metadata": {},
     "output_type": "display_data"
    },
    {
     "name": "stdout",
     "output_type": "stream",
     "text": [
      "Epoch 21/100\n"
     ]
    },
    {
     "data": {
      "application/vnd.jupyter.widget-view+json": {
       "model_id": "cb1ec38ea0904a9eab66dbd519ee1060",
       "version_major": 2,
       "version_minor": 0
      },
      "text/plain": [
       "0/20           ETA: ?s - "
      ]
     },
     "metadata": {},
     "output_type": "display_data"
    },
    {
     "name": "stdout",
     "output_type": "stream",
     "text": [
      "Epoch 22/100\n"
     ]
    },
    {
     "data": {
      "application/vnd.jupyter.widget-view+json": {
       "model_id": "11bc3b188af24b778674dd0c6901f74c",
       "version_major": 2,
       "version_minor": 0
      },
      "text/plain": [
       "0/20           ETA: ?s - "
      ]
     },
     "metadata": {},
     "output_type": "display_data"
    },
    {
     "name": "stdout",
     "output_type": "stream",
     "text": [
      "Epoch 23/100\n"
     ]
    },
    {
     "data": {
      "application/vnd.jupyter.widget-view+json": {
       "model_id": "5c6ee4ba0fa94a8d939e075ba86ce4d0",
       "version_major": 2,
       "version_minor": 0
      },
      "text/plain": [
       "0/20           ETA: ?s - "
      ]
     },
     "metadata": {},
     "output_type": "display_data"
    },
    {
     "name": "stdout",
     "output_type": "stream",
     "text": [
      "Epoch 24/100\n"
     ]
    },
    {
     "data": {
      "application/vnd.jupyter.widget-view+json": {
       "model_id": "259dd1998dc14f96b6966bbc03ba2517",
       "version_major": 2,
       "version_minor": 0
      },
      "text/plain": [
       "0/20           ETA: ?s - "
      ]
     },
     "metadata": {},
     "output_type": "display_data"
    },
    {
     "name": "stdout",
     "output_type": "stream",
     "text": [
      "Epoch 25/100\n"
     ]
    },
    {
     "data": {
      "application/vnd.jupyter.widget-view+json": {
       "model_id": "201cfb93122946c88007b129dbd38d0f",
       "version_major": 2,
       "version_minor": 0
      },
      "text/plain": [
       "0/20           ETA: ?s - "
      ]
     },
     "metadata": {},
     "output_type": "display_data"
    },
    {
     "name": "stdout",
     "output_type": "stream",
     "text": [
      "Epoch 26/100\n"
     ]
    },
    {
     "data": {
      "application/vnd.jupyter.widget-view+json": {
       "model_id": "b65aecc41ff24865b3c180ee913633c1",
       "version_major": 2,
       "version_minor": 0
      },
      "text/plain": [
       "0/20           ETA: ?s - "
      ]
     },
     "metadata": {},
     "output_type": "display_data"
    },
    {
     "name": "stdout",
     "output_type": "stream",
     "text": [
      "Epoch 27/100\n"
     ]
    },
    {
     "data": {
      "application/vnd.jupyter.widget-view+json": {
       "model_id": "96e7a37ceebf4b8baca993ba36c9c2dc",
       "version_major": 2,
       "version_minor": 0
      },
      "text/plain": [
       "0/20           ETA: ?s - "
      ]
     },
     "metadata": {},
     "output_type": "display_data"
    },
    {
     "name": "stdout",
     "output_type": "stream",
     "text": [
      "Epoch 28/100\n"
     ]
    },
    {
     "data": {
      "application/vnd.jupyter.widget-view+json": {
       "model_id": "62d6ea18718b404cbc97a75a38c5f38f",
       "version_major": 2,
       "version_minor": 0
      },
      "text/plain": [
       "0/20           ETA: ?s - "
      ]
     },
     "metadata": {},
     "output_type": "display_data"
    },
    {
     "name": "stdout",
     "output_type": "stream",
     "text": [
      "Epoch 29/100\n"
     ]
    },
    {
     "data": {
      "application/vnd.jupyter.widget-view+json": {
       "model_id": "b62aa5d422c643ba944f4fbe9b3f9bcf",
       "version_major": 2,
       "version_minor": 0
      },
      "text/plain": [
       "0/20           ETA: ?s - "
      ]
     },
     "metadata": {},
     "output_type": "display_data"
    },
    {
     "name": "stdout",
     "output_type": "stream",
     "text": [
      "Epoch 30/100\n"
     ]
    },
    {
     "data": {
      "application/vnd.jupyter.widget-view+json": {
       "model_id": "579264922ee24e669bee48f1f9c14067",
       "version_major": 2,
       "version_minor": 0
      },
      "text/plain": [
       "0/20           ETA: ?s - "
      ]
     },
     "metadata": {},
     "output_type": "display_data"
    },
    {
     "name": "stdout",
     "output_type": "stream",
     "text": [
      "Epoch 31/100\n"
     ]
    },
    {
     "data": {
      "application/vnd.jupyter.widget-view+json": {
       "model_id": "b1aef62384be44c888c89fc4ac63ba2f",
       "version_major": 2,
       "version_minor": 0
      },
      "text/plain": [
       "0/20           ETA: ?s - "
      ]
     },
     "metadata": {},
     "output_type": "display_data"
    },
    {
     "name": "stdout",
     "output_type": "stream",
     "text": [
      "Epoch 32/100\n"
     ]
    },
    {
     "data": {
      "application/vnd.jupyter.widget-view+json": {
       "model_id": "2fd355c1313e46519f3129e4ae8e5908",
       "version_major": 2,
       "version_minor": 0
      },
      "text/plain": [
       "0/20           ETA: ?s - "
      ]
     },
     "metadata": {},
     "output_type": "display_data"
    },
    {
     "name": "stdout",
     "output_type": "stream",
     "text": [
      "Epoch 33/100\n"
     ]
    },
    {
     "data": {
      "application/vnd.jupyter.widget-view+json": {
       "model_id": "4e2e8e1de69343a9b536e8fea36baf2a",
       "version_major": 2,
       "version_minor": 0
      },
      "text/plain": [
       "0/20           ETA: ?s - "
      ]
     },
     "metadata": {},
     "output_type": "display_data"
    },
    {
     "name": "stdout",
     "output_type": "stream",
     "text": [
      "Epoch 34/100\n"
     ]
    },
    {
     "data": {
      "application/vnd.jupyter.widget-view+json": {
       "model_id": "e45e5adbaac24a88b2f89a3ed9672739",
       "version_major": 2,
       "version_minor": 0
      },
      "text/plain": [
       "0/20           ETA: ?s - "
      ]
     },
     "metadata": {},
     "output_type": "display_data"
    },
    {
     "name": "stdout",
     "output_type": "stream",
     "text": [
      "Epoch 35/100\n"
     ]
    },
    {
     "data": {
      "application/vnd.jupyter.widget-view+json": {
       "model_id": "87030c3bc90a4e9f830f5d9edab9ac9c",
       "version_major": 2,
       "version_minor": 0
      },
      "text/plain": [
       "0/20           ETA: ?s - "
      ]
     },
     "metadata": {},
     "output_type": "display_data"
    },
    {
     "name": "stdout",
     "output_type": "stream",
     "text": [
      "Epoch 36/100\n"
     ]
    },
    {
     "data": {
      "application/vnd.jupyter.widget-view+json": {
       "model_id": "f50320a0d01b4c9fb06287e1ad37945d",
       "version_major": 2,
       "version_minor": 0
      },
      "text/plain": [
       "0/20           ETA: ?s - "
      ]
     },
     "metadata": {},
     "output_type": "display_data"
    },
    {
     "name": "stdout",
     "output_type": "stream",
     "text": [
      "Epoch 37/100\n"
     ]
    },
    {
     "data": {
      "application/vnd.jupyter.widget-view+json": {
       "model_id": "3d4545fd5a4b45cf93571bc2e1d9181f",
       "version_major": 2,
       "version_minor": 0
      },
      "text/plain": [
       "0/20           ETA: ?s - "
      ]
     },
     "metadata": {},
     "output_type": "display_data"
    },
    {
     "name": "stdout",
     "output_type": "stream",
     "text": [
      "Epoch 38/100\n"
     ]
    },
    {
     "data": {
      "application/vnd.jupyter.widget-view+json": {
       "model_id": "143844fae6e34762bf730076f1798c3e",
       "version_major": 2,
       "version_minor": 0
      },
      "text/plain": [
       "0/20           ETA: ?s - "
      ]
     },
     "metadata": {},
     "output_type": "display_data"
    },
    {
     "name": "stdout",
     "output_type": "stream",
     "text": [
      "Epoch 39/100\n"
     ]
    },
    {
     "data": {
      "application/vnd.jupyter.widget-view+json": {
       "model_id": "2fd2c4cf954142beaf33a52c4a1401ba",
       "version_major": 2,
       "version_minor": 0
      },
      "text/plain": [
       "0/20           ETA: ?s - "
      ]
     },
     "metadata": {},
     "output_type": "display_data"
    },
    {
     "name": "stdout",
     "output_type": "stream",
     "text": [
      "Epoch 40/100\n"
     ]
    },
    {
     "data": {
      "application/vnd.jupyter.widget-view+json": {
       "model_id": "cf818fd7b0c747d39716f17238705b8e",
       "version_major": 2,
       "version_minor": 0
      },
      "text/plain": [
       "0/20           ETA: ?s - "
      ]
     },
     "metadata": {},
     "output_type": "display_data"
    },
    {
     "name": "stdout",
     "output_type": "stream",
     "text": [
      "Epoch 41/100\n"
     ]
    },
    {
     "data": {
      "application/vnd.jupyter.widget-view+json": {
       "model_id": "e066290c6f6b4befb62ab93c6374e085",
       "version_major": 2,
       "version_minor": 0
      },
      "text/plain": [
       "0/20           ETA: ?s - "
      ]
     },
     "metadata": {},
     "output_type": "display_data"
    },
    {
     "name": "stdout",
     "output_type": "stream",
     "text": [
      "Epoch 42/100\n"
     ]
    },
    {
     "data": {
      "application/vnd.jupyter.widget-view+json": {
       "model_id": "f6b3515f023449c0bc7b9c6b3d3e449d",
       "version_major": 2,
       "version_minor": 0
      },
      "text/plain": [
       "0/20           ETA: ?s - "
      ]
     },
     "metadata": {},
     "output_type": "display_data"
    },
    {
     "name": "stdout",
     "output_type": "stream",
     "text": [
      "Epoch 43/100\n"
     ]
    },
    {
     "data": {
      "application/vnd.jupyter.widget-view+json": {
       "model_id": "f4d20cdf59474a3f9b84411b0f49f2ef",
       "version_major": 2,
       "version_minor": 0
      },
      "text/plain": [
       "0/20           ETA: ?s - "
      ]
     },
     "metadata": {},
     "output_type": "display_data"
    },
    {
     "name": "stdout",
     "output_type": "stream",
     "text": [
      "Epoch 44/100\n"
     ]
    },
    {
     "data": {
      "application/vnd.jupyter.widget-view+json": {
       "model_id": "fc6693527fe3475d90fe9a0d95573a36",
       "version_major": 2,
       "version_minor": 0
      },
      "text/plain": [
       "0/20           ETA: ?s - "
      ]
     },
     "metadata": {},
     "output_type": "display_data"
    },
    {
     "name": "stdout",
     "output_type": "stream",
     "text": [
      "Epoch 45/100\n"
     ]
    },
    {
     "data": {
      "application/vnd.jupyter.widget-view+json": {
       "model_id": "d7cc5b034e514b76902c3fa58f398e03",
       "version_major": 2,
       "version_minor": 0
      },
      "text/plain": [
       "0/20           ETA: ?s - "
      ]
     },
     "metadata": {},
     "output_type": "display_data"
    },
    {
     "name": "stdout",
     "output_type": "stream",
     "text": [
      "Epoch 46/100\n"
     ]
    },
    {
     "data": {
      "application/vnd.jupyter.widget-view+json": {
       "model_id": "9e9ccae25ed940ecb688b79629a59907",
       "version_major": 2,
       "version_minor": 0
      },
      "text/plain": [
       "0/20           ETA: ?s - "
      ]
     },
     "metadata": {},
     "output_type": "display_data"
    },
    {
     "name": "stdout",
     "output_type": "stream",
     "text": [
      "Epoch 47/100\n"
     ]
    },
    {
     "data": {
      "application/vnd.jupyter.widget-view+json": {
       "model_id": "bc98d550e91249c2b37ade4b1022ffad",
       "version_major": 2,
       "version_minor": 0
      },
      "text/plain": [
       "0/20           ETA: ?s - "
      ]
     },
     "metadata": {},
     "output_type": "display_data"
    },
    {
     "name": "stdout",
     "output_type": "stream",
     "text": [
      "Epoch 48/100\n"
     ]
    },
    {
     "data": {
      "application/vnd.jupyter.widget-view+json": {
       "model_id": "a4b7c8a59b644a799454e7e0a43620b6",
       "version_major": 2,
       "version_minor": 0
      },
      "text/plain": [
       "0/20           ETA: ?s - "
      ]
     },
     "metadata": {},
     "output_type": "display_data"
    },
    {
     "name": "stdout",
     "output_type": "stream",
     "text": [
      "Epoch 49/100\n"
     ]
    },
    {
     "data": {
      "application/vnd.jupyter.widget-view+json": {
       "model_id": "e5583437dd874ea1b274a63e8338d05f",
       "version_major": 2,
       "version_minor": 0
      },
      "text/plain": [
       "0/20           ETA: ?s - "
      ]
     },
     "metadata": {},
     "output_type": "display_data"
    },
    {
     "name": "stdout",
     "output_type": "stream",
     "text": [
      "Epoch 50/100\n"
     ]
    },
    {
     "data": {
      "application/vnd.jupyter.widget-view+json": {
       "model_id": "ebe71db9ee7f4b6386e15614634231bf",
       "version_major": 2,
       "version_minor": 0
      },
      "text/plain": [
       "0/20           ETA: ?s - "
      ]
     },
     "metadata": {},
     "output_type": "display_data"
    },
    {
     "name": "stdout",
     "output_type": "stream",
     "text": [
      "Epoch 51/100\n"
     ]
    },
    {
     "data": {
      "application/vnd.jupyter.widget-view+json": {
       "model_id": "c28aa9a1b1dd43ccae3419357006340a",
       "version_major": 2,
       "version_minor": 0
      },
      "text/plain": [
       "0/20           ETA: ?s - "
      ]
     },
     "metadata": {},
     "output_type": "display_data"
    },
    {
     "name": "stdout",
     "output_type": "stream",
     "text": [
      "Epoch 52/100\n"
     ]
    },
    {
     "data": {
      "application/vnd.jupyter.widget-view+json": {
       "model_id": "c543dac3f6a045f6875080e384fed5b3",
       "version_major": 2,
       "version_minor": 0
      },
      "text/plain": [
       "0/20           ETA: ?s - "
      ]
     },
     "metadata": {},
     "output_type": "display_data"
    },
    {
     "name": "stdout",
     "output_type": "stream",
     "text": [
      "Epoch 53/100\n"
     ]
    },
    {
     "data": {
      "application/vnd.jupyter.widget-view+json": {
       "model_id": "436b2ae1be044063a9a1c7e41fd33aff",
       "version_major": 2,
       "version_minor": 0
      },
      "text/plain": [
       "0/20           ETA: ?s - "
      ]
     },
     "metadata": {},
     "output_type": "display_data"
    },
    {
     "name": "stdout",
     "output_type": "stream",
     "text": [
      "Epoch 54/100\n"
     ]
    },
    {
     "data": {
      "application/vnd.jupyter.widget-view+json": {
       "model_id": "6101ef2b8bc744af80160fa3fdb41c40",
       "version_major": 2,
       "version_minor": 0
      },
      "text/plain": [
       "0/20           ETA: ?s - "
      ]
     },
     "metadata": {},
     "output_type": "display_data"
    },
    {
     "name": "stdout",
     "output_type": "stream",
     "text": [
      "Epoch 55/100\n"
     ]
    },
    {
     "data": {
      "application/vnd.jupyter.widget-view+json": {
       "model_id": "499e5a28b0774fd2be3d22142fe560a6",
       "version_major": 2,
       "version_minor": 0
      },
      "text/plain": [
       "0/20           ETA: ?s - "
      ]
     },
     "metadata": {},
     "output_type": "display_data"
    },
    {
     "name": "stdout",
     "output_type": "stream",
     "text": [
      "Epoch 56/100\n"
     ]
    },
    {
     "data": {
      "application/vnd.jupyter.widget-view+json": {
       "model_id": "f8809746d45948da8371d52d801d7468",
       "version_major": 2,
       "version_minor": 0
      },
      "text/plain": [
       "0/20           ETA: ?s - "
      ]
     },
     "metadata": {},
     "output_type": "display_data"
    },
    {
     "name": "stdout",
     "output_type": "stream",
     "text": [
      "Epoch 57/100\n"
     ]
    },
    {
     "data": {
      "application/vnd.jupyter.widget-view+json": {
       "model_id": "234a15d92e8a4baeab872d8b47957500",
       "version_major": 2,
       "version_minor": 0
      },
      "text/plain": [
       "0/20           ETA: ?s - "
      ]
     },
     "metadata": {},
     "output_type": "display_data"
    },
    {
     "name": "stdout",
     "output_type": "stream",
     "text": [
      "Epoch 58/100\n"
     ]
    },
    {
     "data": {
      "application/vnd.jupyter.widget-view+json": {
       "model_id": "88a532061b2c4821a2bd08d173f073ec",
       "version_major": 2,
       "version_minor": 0
      },
      "text/plain": [
       "0/20           ETA: ?s - "
      ]
     },
     "metadata": {},
     "output_type": "display_data"
    },
    {
     "name": "stdout",
     "output_type": "stream",
     "text": [
      "Epoch 59/100\n"
     ]
    },
    {
     "data": {
      "application/vnd.jupyter.widget-view+json": {
       "model_id": "2d8af9a8ad94467b8e3fff8f7a1635ff",
       "version_major": 2,
       "version_minor": 0
      },
      "text/plain": [
       "0/20           ETA: ?s - "
      ]
     },
     "metadata": {},
     "output_type": "display_data"
    },
    {
     "name": "stdout",
     "output_type": "stream",
     "text": [
      "Epoch 60/100\n"
     ]
    },
    {
     "data": {
      "application/vnd.jupyter.widget-view+json": {
       "model_id": "39bcb08ee1b648fa829970d06f7375b7",
       "version_major": 2,
       "version_minor": 0
      },
      "text/plain": [
       "0/20           ETA: ?s - "
      ]
     },
     "metadata": {},
     "output_type": "display_data"
    },
    {
     "name": "stdout",
     "output_type": "stream",
     "text": [
      "Epoch 61/100\n"
     ]
    },
    {
     "data": {
      "application/vnd.jupyter.widget-view+json": {
       "model_id": "cf9e2c60bcd645cba2ed4199993028a4",
       "version_major": 2,
       "version_minor": 0
      },
      "text/plain": [
       "0/20           ETA: ?s - "
      ]
     },
     "metadata": {},
     "output_type": "display_data"
    },
    {
     "name": "stdout",
     "output_type": "stream",
     "text": [
      "Epoch 62/100\n"
     ]
    },
    {
     "data": {
      "application/vnd.jupyter.widget-view+json": {
       "model_id": "7c0c2c9044504f58a0095c019cb87df7",
       "version_major": 2,
       "version_minor": 0
      },
      "text/plain": [
       "0/20           ETA: ?s - "
      ]
     },
     "metadata": {},
     "output_type": "display_data"
    },
    {
     "name": "stdout",
     "output_type": "stream",
     "text": [
      "Epoch 63/100\n"
     ]
    },
    {
     "data": {
      "application/vnd.jupyter.widget-view+json": {
       "model_id": "9c3068fa837c4e49bdbfbbb8f49833f5",
       "version_major": 2,
       "version_minor": 0
      },
      "text/plain": [
       "0/20           ETA: ?s - "
      ]
     },
     "metadata": {},
     "output_type": "display_data"
    },
    {
     "name": "stdout",
     "output_type": "stream",
     "text": [
      "Epoch 64/100\n"
     ]
    },
    {
     "data": {
      "application/vnd.jupyter.widget-view+json": {
       "model_id": "8b81a69f27ba4e1bbe68a81dd5d78021",
       "version_major": 2,
       "version_minor": 0
      },
      "text/plain": [
       "0/20           ETA: ?s - "
      ]
     },
     "metadata": {},
     "output_type": "display_data"
    },
    {
     "name": "stdout",
     "output_type": "stream",
     "text": [
      "Epoch 65/100\n"
     ]
    },
    {
     "data": {
      "application/vnd.jupyter.widget-view+json": {
       "model_id": "fcf2692ba12d456aad6b044437dee0f5",
       "version_major": 2,
       "version_minor": 0
      },
      "text/plain": [
       "0/20           ETA: ?s - "
      ]
     },
     "metadata": {},
     "output_type": "display_data"
    },
    {
     "name": "stdout",
     "output_type": "stream",
     "text": [
      "Epoch 66/100\n"
     ]
    },
    {
     "data": {
      "application/vnd.jupyter.widget-view+json": {
       "model_id": "26cff16015cd46e1b5f3b84f01b46adf",
       "version_major": 2,
       "version_minor": 0
      },
      "text/plain": [
       "0/20           ETA: ?s - "
      ]
     },
     "metadata": {},
     "output_type": "display_data"
    },
    {
     "name": "stdout",
     "output_type": "stream",
     "text": [
      "Epoch 67/100\n"
     ]
    },
    {
     "data": {
      "application/vnd.jupyter.widget-view+json": {
       "model_id": "d585583bf08947809ff0b24594725438",
       "version_major": 2,
       "version_minor": 0
      },
      "text/plain": [
       "0/20           ETA: ?s - "
      ]
     },
     "metadata": {},
     "output_type": "display_data"
    },
    {
     "name": "stdout",
     "output_type": "stream",
     "text": [
      "Epoch 68/100\n"
     ]
    },
    {
     "data": {
      "application/vnd.jupyter.widget-view+json": {
       "model_id": "bb78fdec615e4a2e94ec997262f8c447",
       "version_major": 2,
       "version_minor": 0
      },
      "text/plain": [
       "0/20           ETA: ?s - "
      ]
     },
     "metadata": {},
     "output_type": "display_data"
    },
    {
     "name": "stdout",
     "output_type": "stream",
     "text": [
      "Epoch 69/100\n"
     ]
    },
    {
     "data": {
      "application/vnd.jupyter.widget-view+json": {
       "model_id": "93c6bbf1c214419cb63a4c390a6da4a4",
       "version_major": 2,
       "version_minor": 0
      },
      "text/plain": [
       "0/20           ETA: ?s - "
      ]
     },
     "metadata": {},
     "output_type": "display_data"
    },
    {
     "name": "stdout",
     "output_type": "stream",
     "text": [
      "Epoch 70/100\n"
     ]
    },
    {
     "data": {
      "application/vnd.jupyter.widget-view+json": {
       "model_id": "9b1689b3e4034bfba7789105a865052f",
       "version_major": 2,
       "version_minor": 0
      },
      "text/plain": [
       "0/20           ETA: ?s - "
      ]
     },
     "metadata": {},
     "output_type": "display_data"
    },
    {
     "name": "stdout",
     "output_type": "stream",
     "text": [
      "Epoch 71/100\n"
     ]
    },
    {
     "data": {
      "application/vnd.jupyter.widget-view+json": {
       "model_id": "2ac7b88e45f44b60911561bf6c1ddca6",
       "version_major": 2,
       "version_minor": 0
      },
      "text/plain": [
       "0/20           ETA: ?s - "
      ]
     },
     "metadata": {},
     "output_type": "display_data"
    },
    {
     "name": "stdout",
     "output_type": "stream",
     "text": [
      "Epoch 72/100\n"
     ]
    },
    {
     "data": {
      "application/vnd.jupyter.widget-view+json": {
       "model_id": "284e336049fe4c979baf33ff3c460a19",
       "version_major": 2,
       "version_minor": 0
      },
      "text/plain": [
       "0/20           ETA: ?s - "
      ]
     },
     "metadata": {},
     "output_type": "display_data"
    },
    {
     "name": "stdout",
     "output_type": "stream",
     "text": [
      "Epoch 73/100\n"
     ]
    },
    {
     "data": {
      "application/vnd.jupyter.widget-view+json": {
       "model_id": "1c3ce9d8446f47f6b6f99b7643a19a66",
       "version_major": 2,
       "version_minor": 0
      },
      "text/plain": [
       "0/20           ETA: ?s - "
      ]
     },
     "metadata": {},
     "output_type": "display_data"
    },
    {
     "name": "stdout",
     "output_type": "stream",
     "text": [
      "Epoch 74/100\n"
     ]
    },
    {
     "data": {
      "application/vnd.jupyter.widget-view+json": {
       "model_id": "3a95253ce4164847b3230e19ad5ad6ab",
       "version_major": 2,
       "version_minor": 0
      },
      "text/plain": [
       "0/20           ETA: ?s - "
      ]
     },
     "metadata": {},
     "output_type": "display_data"
    },
    {
     "name": "stdout",
     "output_type": "stream",
     "text": [
      "Epoch 75/100\n"
     ]
    },
    {
     "data": {
      "application/vnd.jupyter.widget-view+json": {
       "model_id": "3ce3cac66ea64104a21912c10072a03e",
       "version_major": 2,
       "version_minor": 0
      },
      "text/plain": [
       "0/20           ETA: ?s - "
      ]
     },
     "metadata": {},
     "output_type": "display_data"
    },
    {
     "name": "stdout",
     "output_type": "stream",
     "text": [
      "Epoch 76/100\n"
     ]
    },
    {
     "data": {
      "application/vnd.jupyter.widget-view+json": {
       "model_id": "c90618d3056a4eaface587024f628c98",
       "version_major": 2,
       "version_minor": 0
      },
      "text/plain": [
       "0/20           ETA: ?s - "
      ]
     },
     "metadata": {},
     "output_type": "display_data"
    },
    {
     "name": "stdout",
     "output_type": "stream",
     "text": [
      "Epoch 77/100\n"
     ]
    },
    {
     "data": {
      "application/vnd.jupyter.widget-view+json": {
       "model_id": "b662342e26fb47ca9f83edc860fe79e9",
       "version_major": 2,
       "version_minor": 0
      },
      "text/plain": [
       "0/20           ETA: ?s - "
      ]
     },
     "metadata": {},
     "output_type": "display_data"
    },
    {
     "name": "stdout",
     "output_type": "stream",
     "text": [
      "Epoch 78/100\n"
     ]
    },
    {
     "data": {
      "application/vnd.jupyter.widget-view+json": {
       "model_id": "2af3c6d12eb74b0bbcda87f08bf47faa",
       "version_major": 2,
       "version_minor": 0
      },
      "text/plain": [
       "0/20           ETA: ?s - "
      ]
     },
     "metadata": {},
     "output_type": "display_data"
    },
    {
     "name": "stdout",
     "output_type": "stream",
     "text": [
      "Epoch 79/100\n"
     ]
    },
    {
     "data": {
      "application/vnd.jupyter.widget-view+json": {
       "model_id": "897ede71748343cbaf7c0a2acd143a0a",
       "version_major": 2,
       "version_minor": 0
      },
      "text/plain": [
       "0/20           ETA: ?s - "
      ]
     },
     "metadata": {},
     "output_type": "display_data"
    },
    {
     "name": "stdout",
     "output_type": "stream",
     "text": [
      "Epoch 80/100\n"
     ]
    },
    {
     "data": {
      "application/vnd.jupyter.widget-view+json": {
       "model_id": "e943f2b77ce94432b4ed9056fa7ad934",
       "version_major": 2,
       "version_minor": 0
      },
      "text/plain": [
       "0/20           ETA: ?s - "
      ]
     },
     "metadata": {},
     "output_type": "display_data"
    },
    {
     "name": "stdout",
     "output_type": "stream",
     "text": [
      "Epoch 81/100\n"
     ]
    },
    {
     "data": {
      "application/vnd.jupyter.widget-view+json": {
       "model_id": "19b509e71c86476d949ab33482bf690c",
       "version_major": 2,
       "version_minor": 0
      },
      "text/plain": [
       "0/20           ETA: ?s - "
      ]
     },
     "metadata": {},
     "output_type": "display_data"
    },
    {
     "name": "stdout",
     "output_type": "stream",
     "text": [
      "Epoch 82/100\n"
     ]
    },
    {
     "data": {
      "application/vnd.jupyter.widget-view+json": {
       "model_id": "7ee8b89a9bed4fdaad276600a3026034",
       "version_major": 2,
       "version_minor": 0
      },
      "text/plain": [
       "0/20           ETA: ?s - "
      ]
     },
     "metadata": {},
     "output_type": "display_data"
    },
    {
     "name": "stdout",
     "output_type": "stream",
     "text": [
      "Epoch 83/100\n"
     ]
    },
    {
     "data": {
      "application/vnd.jupyter.widget-view+json": {
       "model_id": "21c5b695b3ce4e8da72faffb6a009f8e",
       "version_major": 2,
       "version_minor": 0
      },
      "text/plain": [
       "0/20           ETA: ?s - "
      ]
     },
     "metadata": {},
     "output_type": "display_data"
    },
    {
     "name": "stdout",
     "output_type": "stream",
     "text": [
      "Epoch 84/100\n"
     ]
    },
    {
     "data": {
      "application/vnd.jupyter.widget-view+json": {
       "model_id": "c7ac5cf469774b3b811c9b051fa54106",
       "version_major": 2,
       "version_minor": 0
      },
      "text/plain": [
       "0/20           ETA: ?s - "
      ]
     },
     "metadata": {},
     "output_type": "display_data"
    },
    {
     "name": "stdout",
     "output_type": "stream",
     "text": [
      "Epoch 85/100\n"
     ]
    },
    {
     "data": {
      "application/vnd.jupyter.widget-view+json": {
       "model_id": "69f12d9189e44449b18a47ee89c2cf72",
       "version_major": 2,
       "version_minor": 0
      },
      "text/plain": [
       "0/20           ETA: ?s - "
      ]
     },
     "metadata": {},
     "output_type": "display_data"
    },
    {
     "name": "stdout",
     "output_type": "stream",
     "text": [
      "Epoch 86/100\n"
     ]
    },
    {
     "data": {
      "application/vnd.jupyter.widget-view+json": {
       "model_id": "5527b931319a4c65a29521608b0f00b6",
       "version_major": 2,
       "version_minor": 0
      },
      "text/plain": [
       "0/20           ETA: ?s - "
      ]
     },
     "metadata": {},
     "output_type": "display_data"
    },
    {
     "name": "stdout",
     "output_type": "stream",
     "text": [
      "Epoch 87/100\n"
     ]
    },
    {
     "data": {
      "application/vnd.jupyter.widget-view+json": {
       "model_id": "20debdda8d784d2aa3949465da9bf9a9",
       "version_major": 2,
       "version_minor": 0
      },
      "text/plain": [
       "0/20           ETA: ?s - "
      ]
     },
     "metadata": {},
     "output_type": "display_data"
    },
    {
     "name": "stdout",
     "output_type": "stream",
     "text": [
      "Epoch 88/100\n"
     ]
    },
    {
     "data": {
      "application/vnd.jupyter.widget-view+json": {
       "model_id": "3cbfa0a52571497aade66dc089d24cd7",
       "version_major": 2,
       "version_minor": 0
      },
      "text/plain": [
       "0/20           ETA: ?s - "
      ]
     },
     "metadata": {},
     "output_type": "display_data"
    },
    {
     "name": "stdout",
     "output_type": "stream",
     "text": [
      "Epoch 89/100\n"
     ]
    },
    {
     "data": {
      "application/vnd.jupyter.widget-view+json": {
       "model_id": "296becfb7d9d4339a43e0b88a00e944d",
       "version_major": 2,
       "version_minor": 0
      },
      "text/plain": [
       "0/20           ETA: ?s - "
      ]
     },
     "metadata": {},
     "output_type": "display_data"
    },
    {
     "name": "stdout",
     "output_type": "stream",
     "text": [
      "Epoch 90/100\n"
     ]
    },
    {
     "data": {
      "application/vnd.jupyter.widget-view+json": {
       "model_id": "0b74487bf5094c9497ec2b4bccdf5510",
       "version_major": 2,
       "version_minor": 0
      },
      "text/plain": [
       "0/20           ETA: ?s - "
      ]
     },
     "metadata": {},
     "output_type": "display_data"
    },
    {
     "name": "stdout",
     "output_type": "stream",
     "text": [
      "Epoch 91/100\n"
     ]
    },
    {
     "data": {
      "application/vnd.jupyter.widget-view+json": {
       "model_id": "757416bc33a84e3492af2641bde609a9",
       "version_major": 2,
       "version_minor": 0
      },
      "text/plain": [
       "0/20           ETA: ?s - "
      ]
     },
     "metadata": {},
     "output_type": "display_data"
    },
    {
     "name": "stdout",
     "output_type": "stream",
     "text": [
      "Epoch 92/100\n"
     ]
    },
    {
     "data": {
      "application/vnd.jupyter.widget-view+json": {
       "model_id": "9ea8e41966824f59b2db58bf9050492b",
       "version_major": 2,
       "version_minor": 0
      },
      "text/plain": [
       "0/20           ETA: ?s - "
      ]
     },
     "metadata": {},
     "output_type": "display_data"
    },
    {
     "name": "stdout",
     "output_type": "stream",
     "text": [
      "Epoch 93/100\n"
     ]
    },
    {
     "data": {
      "application/vnd.jupyter.widget-view+json": {
       "model_id": "9e7db4f7c2fd40d7baf41681be42f9a1",
       "version_major": 2,
       "version_minor": 0
      },
      "text/plain": [
       "0/20           ETA: ?s - "
      ]
     },
     "metadata": {},
     "output_type": "display_data"
    },
    {
     "name": "stdout",
     "output_type": "stream",
     "text": [
      "Epoch 94/100\n"
     ]
    },
    {
     "data": {
      "application/vnd.jupyter.widget-view+json": {
       "model_id": "cd7fa7f24fcb406d928de4148062c163",
       "version_major": 2,
       "version_minor": 0
      },
      "text/plain": [
       "0/20           ETA: ?s - "
      ]
     },
     "metadata": {},
     "output_type": "display_data"
    },
    {
     "name": "stdout",
     "output_type": "stream",
     "text": [
      "Epoch 95/100\n"
     ]
    },
    {
     "data": {
      "application/vnd.jupyter.widget-view+json": {
       "model_id": "82047d045a794ecda3aa4557ad9247ec",
       "version_major": 2,
       "version_minor": 0
      },
      "text/plain": [
       "0/20           ETA: ?s - "
      ]
     },
     "metadata": {},
     "output_type": "display_data"
    },
    {
     "name": "stdout",
     "output_type": "stream",
     "text": [
      "Epoch 96/100\n"
     ]
    },
    {
     "data": {
      "application/vnd.jupyter.widget-view+json": {
       "model_id": "8005684a235148c6ac2fb518cf438e66",
       "version_major": 2,
       "version_minor": 0
      },
      "text/plain": [
       "0/20           ETA: ?s - "
      ]
     },
     "metadata": {},
     "output_type": "display_data"
    },
    {
     "name": "stdout",
     "output_type": "stream",
     "text": [
      "Epoch 97/100\n"
     ]
    },
    {
     "data": {
      "application/vnd.jupyter.widget-view+json": {
       "model_id": "d4d06cb015f24d64b08aa5c30ea27b57",
       "version_major": 2,
       "version_minor": 0
      },
      "text/plain": [
       "0/20           ETA: ?s - "
      ]
     },
     "metadata": {},
     "output_type": "display_data"
    },
    {
     "name": "stdout",
     "output_type": "stream",
     "text": [
      "Epoch 98/100\n"
     ]
    },
    {
     "data": {
      "application/vnd.jupyter.widget-view+json": {
       "model_id": "a14af441499e468eb4c51bd216e06c75",
       "version_major": 2,
       "version_minor": 0
      },
      "text/plain": [
       "0/20           ETA: ?s - "
      ]
     },
     "metadata": {},
     "output_type": "display_data"
    },
    {
     "name": "stdout",
     "output_type": "stream",
     "text": [
      "Epoch 99/100\n"
     ]
    },
    {
     "data": {
      "application/vnd.jupyter.widget-view+json": {
       "model_id": "800fd062adbf4aa687374e50c0d745a6",
       "version_major": 2,
       "version_minor": 0
      },
      "text/plain": [
       "0/20           ETA: ?s - "
      ]
     },
     "metadata": {},
     "output_type": "display_data"
    },
    {
     "name": "stdout",
     "output_type": "stream",
     "text": [
      "Epoch 100/100\n"
     ]
    },
    {
     "data": {
      "application/vnd.jupyter.widget-view+json": {
       "model_id": "e0ad65b29c484a57bb4ea4cd156ff2c7",
       "version_major": 2,
       "version_minor": 0
      },
      "text/plain": [
       "0/20           ETA: ?s - "
      ]
     },
     "metadata": {},
     "output_type": "display_data"
    }
   ],
   "source": [
    "import tensorflow_addons as tfa\n",
    "import tqdm\n",
    "\n",
    "tqdm_callback = tfa.callbacks.TQDMProgressBar()\n",
    "\n",
    "\n",
    "batch_size = 128\n",
    "mc = ModelCheckpoint('./log/Simple_RNN_model2.h5', save_best_only=True)\n",
    "history = model.fit(X_train, y_train, epochs=100, batch_size=batch_size,\n",
    "                    verbose=0, validation_data=(X_test, y_test), callbacks=[mc, tqdm_callback])\n"
   ]
  },
  {
   "cell_type": "code",
   "execution_count": 16,
   "metadata": {},
   "outputs": [],
   "source": [
    "model.load_weights('./log/Simple_RNN_model2.h5')"
   ]
  },
  {
   "cell_type": "code",
   "execution_count": 17,
   "metadata": {},
   "outputs": [
    {
     "name": "stdout",
     "output_type": "stream",
     "text": [
      "3/3 [==============================] - 1s 58ms/step\n",
      "              precision    recall  f1-score   support\n",
      "\n",
      "           0      0.844     0.906     0.874       149\n",
      "           1      0.883     0.809     0.845       131\n",
      "\n",
      "    accuracy                          0.861       280\n",
      "   macro avg      0.864     0.858     0.859       280\n",
      "weighted avg      0.862     0.861     0.860       280\n",
      "\n"
     ]
    }
   ],
   "source": [
    "y_pred = model.predict(X_test, verbose=1, batch_size=batch_size)\n",
    "y_pred = [y >= 0.5 for y in y_pred]\n",
    "\n",
    "print(metrics.classification_report(y_test, y_pred, digits=3))\n",
    "with open('log/report.txt', 'w') as f:\n",
    "  f.write(str(metrics.classification_report(y_test, y_pred, digits=3)))\n"
   ]
  },
  {
   "cell_type": "code",
   "execution_count": 18,
   "metadata": {},
   "outputs": [
    {
     "data": {
      "image/png": "[encoded data removed]",
      "text/plain": [
       "<Figure size 432x288 with 2 Axes>"
      ]
     },
     "metadata": {
      "needs_background": "light"
     },
     "output_type": "display_data"
    }
   ],
   "source": [
    "fig, ax = plt.subplots(2, 1)\n",
    "ax[0].plot(history.history['loss'], color='b', label=\"Training loss\")\n",
    "ax[0].plot(history.history['val_loss'], color='r',\n",
    "           label=\"validation loss\", axes=ax[0])\n",
    "legend = ax[0].legend(loc='best', shadow=True)\n",
    "\n",
    "ax[1].plot(history.history['accuracy'], color='b', label=\"Training accuracy\")\n",
    "ax[1].plot(history.history['val_accuracy'],\n",
    "           color='r', label=\"Validation accuracy\")\n",
    "legend = ax[1].legend(loc='best', shadow=True)"
   ]
  },
  {
   "cell_type": "code",
   "execution_count": null,
   "metadata": {},
   "outputs": [],
   "source": []
  }
 ],
 "metadata": {
  "interpreter": {
   "hash": "263279b5c7f5294ef7179eeb038e9113bb5dce42ff0c0d19b3e81ce1438dd79a"
  },
  "kernelspec": {
   "display_name": "Python 3.8.12 ('keras_env')",
   "language": "python",
   "name": "python3"
  },
  "language_info": {
   "codemirror_mode": {
    "name": "ipython",
    "version": 3
   },
   "file_extension": ".py",
   "mimetype": "text/x-python",
   "name": "python",
   "nbconvert_exporter": "python",
   "pygments_lexer": "ipython3",
   "version": "3.8.12"
  },
  "orig_nbformat": 4
 },
 "nbformat": 4,
 "nbformat_minor": 2
}
