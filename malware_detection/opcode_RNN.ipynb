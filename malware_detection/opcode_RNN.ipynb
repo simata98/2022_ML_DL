{
 "cells": [
  {
   "cell_type": "code",
   "execution_count": 1,
   "metadata": {},
   "outputs": [],
   "source": [
    "import os\n",
    "os.environ['TF_CPP_MIN_LOG_LEVEL'] = '3'\n",
    "\n",
    "from pathlib import Path\n",
    "import numpy as np\n",
    "from matplotlib import pyplot as plt\n",
    "from sklearn import metrics\n",
    "from sklearn.model_selection import train_test_split\n",
    "from tensorflow.keras.preprocessing.text import Tokenizer\n",
    "from tensorflow.keras.preprocessing.sequence import pad_sequences\n",
    "from tensorflow.keras.models import Sequential\n",
    "from tensorflow.keras.layers import Dense, Embedding, LSTM, SpatialDropout1D, Bidirectional\n",
    "from tensorflow.keras.callbacks import ModelCheckpoint\n",
    "import itertools"
   ]
  },
  {
   "cell_type": "code",
   "execution_count": 2,
   "metadata": {},
   "outputs": [],
   "source": [
    "max_length = 0\n",
    "corpus = list()\n",
    "labels = list()\n",
    "\n",
    "with open(Path('./output/benign/all_benign.txt'), 'r') as f:\n",
    "  lines = f.read().split('\\n')[:-1]\n",
    "  # print(lines[0][33:])\n",
    "for line in lines:\n",
    "  doc = line[33:]\n",
    "  corpus.append(doc)\n",
    "  labels.append(0)\n",
    "  "
   ]
  },
  {
   "cell_type": "code",
   "execution_count": 3,
   "metadata": {},
   "outputs": [],
   "source": [
    "with open(Path('./output/malware/all_malware.txt'), 'r') as f:\n",
    "  lines = f.read().split('\\n')[:-1]\n",
    "  # print(lines[0][33:])\n",
    "for line in lines:\n",
    "  doc = line[33:]\n",
    "  corpus.append(doc)\n",
    "  labels.append(1)"
   ]
  },
  {
   "cell_type": "code",
   "execution_count": 4,
   "metadata": {},
   "outputs": [],
   "source": [
    "labels = np.array(labels)"
   ]
  },
  {
   "cell_type": "code",
   "execution_count": 13,
   "metadata": {},
   "outputs": [
    {
     "name": "stdout",
     "output_type": "stream",
     "text": [
      "(2800, 320000)\n"
     ]
    }
   ],
   "source": [
    "tokenizer = Tokenizer(split=' ')\n",
    "tokenizer.fit_on_texts(corpus)\n",
    "X = tokenizer.texts_to_sequences(corpus)\n",
    "X = pad_sequences(X, maxlen=320000)\n",
    "print(X.shape)"
   ]
  },
  {
   "cell_type": "code",
   "execution_count": 16,
   "metadata": {},
   "outputs": [
    {
     "name": "stdout",
     "output_type": "stream",
     "text": [
      "(2800, 64, 5000)\n"
     ]
    }
   ],
   "source": [
    "X = X.reshape(-1, 64, 5000)\n",
    "print(X.shape)"
   ]
  },
  {
   "cell_type": "code",
   "execution_count": 7,
   "metadata": {},
   "outputs": [
    {
     "name": "stdout",
     "output_type": "stream",
     "text": [
      "노드 개수: 26, 한 개 밖에 없는 노드: 0\n"
     ]
    }
   ],
   "source": [
    "vocab_size = len(tokenizer.word_index) + 1\n",
    "print(f'노드 개수: {vocab_size}, 한 개 밖에 없는 노드:', end=' ')\n",
    "unique_word = 0\n",
    "for k in tokenizer.word_docs:\n",
    "  if tokenizer.word_docs[k] == 1:\n",
    "    unique_word += 1\n",
    "print(unique_word)"
   ]
  },
  {
   "cell_type": "code",
   "execution_count": 20,
   "metadata": {},
   "outputs": [
    {
     "name": "stdout",
     "output_type": "stream",
     "text": [
      "Model: \"sequential_5\"\n",
      "_________________________________________________________________\n",
      "Layer (type)                 Output Shape              Param #   \n",
      "=================================================================\n",
      "simple_rnn_2 (SimpleRNN)     (None, 128)               656512    \n",
      "_________________________________________________________________\n",
      "dense_2 (Dense)              (None, 1)                 129       \n",
      "=================================================================\n",
      "Total params: 656,641\n",
      "Trainable params: 656,641\n",
      "Non-trainable params: 0\n",
      "_________________________________________________________________\n",
      "None\n"
     ]
    }
   ],
   "source": [
    "from tensorflow.keras import layers, models\n",
    "\n",
    "model = models.Sequential()\n",
    "model.add(layers.SimpleRNN(128, input_shape = (64, 5000)))\n",
    "model.add(layers.Dense(1, activation='sigmoid'))\n",
    "model.compile(loss='binary_crossentropy',\n",
    "              optimizer='adam', metrics=['accuracy'])\n",
    "print(model.summary())"
   ]
  },
  {
   "cell_type": "code",
   "execution_count": 21,
   "metadata": {},
   "outputs": [
    {
     "name": "stdout",
     "output_type": "stream",
     "text": [
      "Train을 (2520, 64, 5000)만큼, Test를 (280, 64, 5000)만큼 진행\n"
     ]
    }
   ],
   "source": [
    "X_train, X_test, y_train, y_test = train_test_split(X, labels, test_size=0.1, random_state=42)\n",
    "print(f'Train을 {X_train.shape}만큼, Test를 {X_test.shape}만큼 진행')"
   ]
  },
  {
   "cell_type": "code",
   "execution_count": 22,
   "metadata": {},
   "outputs": [
    {
     "name": "stdout",
     "output_type": "stream",
     "text": [
      "Epoch 1/100\n",
      "40/40 - 6s - loss: 0.6520 - accuracy: 0.6313 - val_loss: 0.6244 - val_accuracy: 0.6357\n",
      "Epoch 2/100\n",
      "40/40 - 3s - loss: 0.6018 - accuracy: 0.6794 - val_loss: 0.6146 - val_accuracy: 0.6286\n",
      "Epoch 3/100\n",
      "40/40 - 3s - loss: 0.6006 - accuracy: 0.6437 - val_loss: 0.6082 - val_accuracy: 0.6893\n",
      "Epoch 4/100\n",
      "40/40 - 3s - loss: 0.5801 - accuracy: 0.7083 - val_loss: 0.5792 - val_accuracy: 0.7071\n",
      "Epoch 5/100\n",
      "40/40 - 3s - loss: 0.5540 - accuracy: 0.7250 - val_loss: 0.5835 - val_accuracy: 0.7893\n",
      "Epoch 6/100\n",
      "40/40 - 3s - loss: 0.5382 - accuracy: 0.7516 - val_loss: 0.5998 - val_accuracy: 0.7500\n",
      "Epoch 7/100\n",
      "40/40 - 3s - loss: 0.5629 - accuracy: 0.7385 - val_loss: 0.5956 - val_accuracy: 0.6607\n",
      "Epoch 8/100\n",
      "40/40 - 4s - loss: 0.5629 - accuracy: 0.6690 - val_loss: 0.5915 - val_accuracy: 0.6464\n",
      "Epoch 9/100\n",
      "40/40 - 5s - loss: 0.5831 - accuracy: 0.6345 - val_loss: 0.6103 - val_accuracy: 0.6500\n",
      "Epoch 10/100\n",
      "40/40 - 3s - loss: 0.5535 - accuracy: 0.7099 - val_loss: 0.5871 - val_accuracy: 0.6536\n",
      "Epoch 11/100\n",
      "40/40 - 3s - loss: 0.5173 - accuracy: 0.7901 - val_loss: 0.5596 - val_accuracy: 0.7714\n",
      "Epoch 12/100\n",
      "40/40 - 3s - loss: 0.5394 - accuracy: 0.7516 - val_loss: 0.5468 - val_accuracy: 0.7786\n",
      "Epoch 13/100\n",
      "40/40 - 3s - loss: 0.5221 - accuracy: 0.7798 - val_loss: 0.5863 - val_accuracy: 0.6857\n",
      "Epoch 14/100\n",
      "40/40 - 3s - loss: 0.5448 - accuracy: 0.7020 - val_loss: 0.6071 - val_accuracy: 0.6393\n",
      "Epoch 15/100\n",
      "40/40 - 3s - loss: 0.5369 - accuracy: 0.7079 - val_loss: 0.5467 - val_accuracy: 0.7536\n",
      "Epoch 16/100\n",
      "40/40 - 3s - loss: 0.4952 - accuracy: 0.8083 - val_loss: 0.5309 - val_accuracy: 0.7786\n",
      "Epoch 17/100\n",
      "40/40 - 3s - loss: 0.4671 - accuracy: 0.8532 - val_loss: 0.5452 - val_accuracy: 0.7607\n",
      "Epoch 18/100\n",
      "40/40 - 3s - loss: 0.4936 - accuracy: 0.8032 - val_loss: 0.5279 - val_accuracy: 0.7750\n",
      "Epoch 19/100\n",
      "40/40 - 3s - loss: 0.4773 - accuracy: 0.8262 - val_loss: 0.4981 - val_accuracy: 0.8036\n",
      "Epoch 20/100\n",
      "40/40 - 4s - loss: 0.4679 - accuracy: 0.8294 - val_loss: 0.4971 - val_accuracy: 0.8179\n",
      "Epoch 21/100\n",
      "40/40 - 3s - loss: 0.4237 - accuracy: 0.8754 - val_loss: 0.4931 - val_accuracy: 0.8071\n",
      "Epoch 22/100\n",
      "40/40 - 3s - loss: 0.4465 - accuracy: 0.8345 - val_loss: 0.4784 - val_accuracy: 0.8214\n",
      "Epoch 23/100\n",
      "40/40 - 3s - loss: 0.3990 - accuracy: 0.8893 - val_loss: 0.4935 - val_accuracy: 0.8107\n",
      "Epoch 24/100\n",
      "40/40 - 3s - loss: 0.3898 - accuracy: 0.8960 - val_loss: 0.4692 - val_accuracy: 0.8250\n",
      "Epoch 25/100\n",
      "40/40 - 3s - loss: 0.3861 - accuracy: 0.8897 - val_loss: 0.5070 - val_accuracy: 0.7893\n",
      "Epoch 26/100\n",
      "40/40 - 3s - loss: 0.4004 - accuracy: 0.8734 - val_loss: 0.4808 - val_accuracy: 0.8107\n",
      "Epoch 27/100\n",
      "40/40 - 3s - loss: 0.3613 - accuracy: 0.9044 - val_loss: 0.5364 - val_accuracy: 0.7786\n",
      "Epoch 28/100\n",
      "40/40 - 3s - loss: 0.3961 - accuracy: 0.8679 - val_loss: 0.5095 - val_accuracy: 0.7714\n",
      "Epoch 29/100\n",
      "40/40 - 3s - loss: 0.3576 - accuracy: 0.8944 - val_loss: 0.5875 - val_accuracy: 0.6964\n",
      "Epoch 30/100\n",
      "40/40 - 4s - loss: 0.3491 - accuracy: 0.8992 - val_loss: 0.5121 - val_accuracy: 0.7679\n",
      "Epoch 31/100\n",
      "40/40 - 3s - loss: 0.3253 - accuracy: 0.9171 - val_loss: 0.4511 - val_accuracy: 0.8179\n",
      "Epoch 32/100\n",
      "40/40 - 3s - loss: 0.3148 - accuracy: 0.9202 - val_loss: 0.4286 - val_accuracy: 0.8357\n",
      "Epoch 33/100\n",
      "40/40 - 4s - loss: 0.3150 - accuracy: 0.9190 - val_loss: 0.4799 - val_accuracy: 0.7929\n",
      "Epoch 34/100\n",
      "40/40 - 3s - loss: 0.3137 - accuracy: 0.9143 - val_loss: 0.4487 - val_accuracy: 0.8107\n",
      "Epoch 35/100\n",
      "40/40 - 3s - loss: 0.3003 - accuracy: 0.9210 - val_loss: 0.4979 - val_accuracy: 0.7964\n",
      "Epoch 36/100\n",
      "40/40 - 3s - loss: 0.2917 - accuracy: 0.9246 - val_loss: 0.4336 - val_accuracy: 0.8321\n",
      "Epoch 37/100\n",
      "40/40 - 3s - loss: 0.2963 - accuracy: 0.9206 - val_loss: 0.4379 - val_accuracy: 0.8321\n",
      "Epoch 38/100\n",
      "40/40 - 3s - loss: 0.2865 - accuracy: 0.9266 - val_loss: 0.4258 - val_accuracy: 0.8357\n",
      "Epoch 39/100\n",
      "40/40 - 3s - loss: 0.2899 - accuracy: 0.9218 - val_loss: 0.5200 - val_accuracy: 0.7857\n",
      "Epoch 40/100\n",
      "40/40 - 3s - loss: 0.2784 - accuracy: 0.9274 - val_loss: 0.4178 - val_accuracy: 0.8357\n",
      "Epoch 41/100\n",
      "40/40 - 3s - loss: 0.3197 - accuracy: 0.8960 - val_loss: 0.5365 - val_accuracy: 0.7286\n",
      "Epoch 42/100\n",
      "40/40 - 3s - loss: 0.3349 - accuracy: 0.8849 - val_loss: 0.4396 - val_accuracy: 0.8321\n",
      "Epoch 43/100\n",
      "40/40 - 3s - loss: 0.2748 - accuracy: 0.9250 - val_loss: 0.3957 - val_accuracy: 0.8321\n",
      "Epoch 44/100\n",
      "40/40 - 3s - loss: 0.2685 - accuracy: 0.9290 - val_loss: 0.5664 - val_accuracy: 0.7607\n",
      "Epoch 45/100\n",
      "40/40 - 3s - loss: 0.2564 - accuracy: 0.9325 - val_loss: 0.5215 - val_accuracy: 0.7750\n",
      "Epoch 46/100\n",
      "40/40 - 3s - loss: 0.2546 - accuracy: 0.9341 - val_loss: 0.4772 - val_accuracy: 0.7964\n",
      "Epoch 47/100\n",
      "40/40 - 3s - loss: 0.2741 - accuracy: 0.9179 - val_loss: 0.5333 - val_accuracy: 0.8036\n",
      "Epoch 48/100\n",
      "40/40 - 3s - loss: 0.2557 - accuracy: 0.9313 - val_loss: 0.4356 - val_accuracy: 0.8286\n",
      "Epoch 49/100\n",
      "40/40 - 4s - loss: 0.2796 - accuracy: 0.9127 - val_loss: 0.4299 - val_accuracy: 0.8286\n",
      "Epoch 50/100\n",
      "40/40 - 4s - loss: 0.2530 - accuracy: 0.9341 - val_loss: 0.4313 - val_accuracy: 0.8250\n",
      "Epoch 51/100\n",
      "40/40 - 3s - loss: 0.2488 - accuracy: 0.9345 - val_loss: 0.5018 - val_accuracy: 0.7964\n",
      "Epoch 52/100\n",
      "40/40 - 4s - loss: 0.2521 - accuracy: 0.9313 - val_loss: 0.4848 - val_accuracy: 0.8107\n",
      "Epoch 53/100\n",
      "40/40 - 4s - loss: 0.2292 - accuracy: 0.9421 - val_loss: 0.4182 - val_accuracy: 0.8321\n",
      "Epoch 54/100\n",
      "40/40 - 4s - loss: 0.2282 - accuracy: 0.9421 - val_loss: 0.4349 - val_accuracy: 0.8286\n",
      "Epoch 55/100\n",
      "40/40 - 3s - loss: 0.2472 - accuracy: 0.9310 - val_loss: 0.4402 - val_accuracy: 0.8179\n",
      "Epoch 56/100\n",
      "40/40 - 5s - loss: 0.2305 - accuracy: 0.9389 - val_loss: 0.4973 - val_accuracy: 0.8036\n",
      "Epoch 57/100\n",
      "40/40 - 5s - loss: 0.2437 - accuracy: 0.9310 - val_loss: 0.4493 - val_accuracy: 0.8214\n",
      "Epoch 58/100\n",
      "40/40 - 3s - loss: 0.2315 - accuracy: 0.9357 - val_loss: 0.4158 - val_accuracy: 0.8393\n",
      "Epoch 59/100\n",
      "40/40 - 3s - loss: 0.2252 - accuracy: 0.9397 - val_loss: 0.4372 - val_accuracy: 0.8429\n",
      "Epoch 60/100\n",
      "40/40 - 3s - loss: 0.2192 - accuracy: 0.9421 - val_loss: 0.4329 - val_accuracy: 0.8321\n",
      "Epoch 61/100\n",
      "40/40 - 3s - loss: 0.2110 - accuracy: 0.9452 - val_loss: 0.4419 - val_accuracy: 0.8321\n",
      "Epoch 62/100\n",
      "40/40 - 3s - loss: 0.2152 - accuracy: 0.9425 - val_loss: 0.4539 - val_accuracy: 0.8321\n",
      "Epoch 63/100\n",
      "40/40 - 3s - loss: 0.2075 - accuracy: 0.9456 - val_loss: 0.4609 - val_accuracy: 0.8250\n",
      "Epoch 64/100\n",
      "40/40 - 3s - loss: 0.2065 - accuracy: 0.9460 - val_loss: 0.4440 - val_accuracy: 0.8357\n",
      "Epoch 65/100\n",
      "40/40 - 3s - loss: 0.2048 - accuracy: 0.9460 - val_loss: 0.4719 - val_accuracy: 0.8286\n",
      "Epoch 66/100\n",
      "40/40 - 3s - loss: 0.2013 - accuracy: 0.9468 - val_loss: 0.4253 - val_accuracy: 0.8464\n",
      "Epoch 67/100\n",
      "40/40 - 3s - loss: 0.2010 - accuracy: 0.9464 - val_loss: 0.4310 - val_accuracy: 0.8321\n",
      "Epoch 68/100\n",
      "40/40 - 3s - loss: 0.1993 - accuracy: 0.9468 - val_loss: 0.4350 - val_accuracy: 0.8357\n",
      "Epoch 69/100\n",
      "40/40 - 3s - loss: 0.1979 - accuracy: 0.9468 - val_loss: 0.4270 - val_accuracy: 0.8357\n",
      "Epoch 70/100\n",
      "40/40 - 3s - loss: 0.1992 - accuracy: 0.9468 - val_loss: 0.4346 - val_accuracy: 0.8357\n",
      "Epoch 71/100\n",
      "40/40 - 3s - loss: 0.1965 - accuracy: 0.9468 - val_loss: 0.4390 - val_accuracy: 0.8321\n",
      "Epoch 72/100\n",
      "40/40 - 3s - loss: 0.1960 - accuracy: 0.9468 - val_loss: 0.4498 - val_accuracy: 0.8357\n",
      "Epoch 73/100\n",
      "40/40 - 3s - loss: 0.1949 - accuracy: 0.9464 - val_loss: 0.4389 - val_accuracy: 0.8321\n",
      "Epoch 74/100\n",
      "40/40 - 3s - loss: 0.1938 - accuracy: 0.9464 - val_loss: 0.4380 - val_accuracy: 0.8321\n",
      "Epoch 75/100\n",
      "40/40 - 3s - loss: 0.1937 - accuracy: 0.9464 - val_loss: 0.4389 - val_accuracy: 0.8393\n",
      "Epoch 76/100\n",
      "40/40 - 3s - loss: 0.1934 - accuracy: 0.9468 - val_loss: 0.4452 - val_accuracy: 0.8321\n",
      "Epoch 77/100\n",
      "40/40 - 3s - loss: 0.1922 - accuracy: 0.9464 - val_loss: 0.4466 - val_accuracy: 0.8321\n",
      "Epoch 78/100\n",
      "40/40 - 3s - loss: 0.1914 - accuracy: 0.9468 - val_loss: 0.4575 - val_accuracy: 0.8321\n",
      "Epoch 79/100\n",
      "40/40 - 3s - loss: 0.1910 - accuracy: 0.9464 - val_loss: 0.4495 - val_accuracy: 0.8321\n",
      "Epoch 80/100\n",
      "40/40 - 3s - loss: 0.1905 - accuracy: 0.9464 - val_loss: 0.4550 - val_accuracy: 0.8321\n",
      "Epoch 81/100\n",
      "40/40 - 3s - loss: 0.1906 - accuracy: 0.9464 - val_loss: 0.4529 - val_accuracy: 0.8321\n",
      "Epoch 82/100\n",
      "40/40 - 3s - loss: 0.1893 - accuracy: 0.9464 - val_loss: 0.4542 - val_accuracy: 0.8321\n",
      "Epoch 83/100\n",
      "40/40 - 3s - loss: 0.1895 - accuracy: 0.9464 - val_loss: 0.4553 - val_accuracy: 0.8321\n",
      "Epoch 84/100\n",
      "40/40 - 3s - loss: 0.1886 - accuracy: 0.9464 - val_loss: 0.4549 - val_accuracy: 0.8321\n",
      "Epoch 85/100\n",
      "40/40 - 3s - loss: 0.1879 - accuracy: 0.9464 - val_loss: 0.4641 - val_accuracy: 0.8357\n",
      "Epoch 86/100\n",
      "40/40 - 3s - loss: 0.1875 - accuracy: 0.9464 - val_loss: 0.4602 - val_accuracy: 0.8321\n",
      "Epoch 87/100\n",
      "40/40 - 3s - loss: 0.1876 - accuracy: 0.9464 - val_loss: 0.4553 - val_accuracy: 0.8321\n",
      "Epoch 88/100\n",
      "40/40 - 3s - loss: 0.1875 - accuracy: 0.9464 - val_loss: 0.4593 - val_accuracy: 0.8321\n",
      "Epoch 89/100\n",
      "40/40 - 3s - loss: 0.1865 - accuracy: 0.9464 - val_loss: 0.4613 - val_accuracy: 0.8321\n",
      "Epoch 90/100\n",
      "40/40 - 3s - loss: 0.1863 - accuracy: 0.9464 - val_loss: 0.4690 - val_accuracy: 0.8321\n",
      "Epoch 91/100\n",
      "40/40 - 3s - loss: 0.1860 - accuracy: 0.9464 - val_loss: 0.4755 - val_accuracy: 0.8357\n",
      "Epoch 92/100\n",
      "40/40 - 3s - loss: 0.1858 - accuracy: 0.9464 - val_loss: 0.4695 - val_accuracy: 0.8321\n",
      "Epoch 93/100\n",
      "40/40 - 3s - loss: 0.1859 - accuracy: 0.9464 - val_loss: 0.4679 - val_accuracy: 0.8321\n",
      "Epoch 94/100\n",
      "40/40 - 3s - loss: 0.1848 - accuracy: 0.9464 - val_loss: 0.4709 - val_accuracy: 0.8321\n",
      "Epoch 95/100\n",
      "40/40 - 3s - loss: 0.1852 - accuracy: 0.9464 - val_loss: 0.4648 - val_accuracy: 0.8321\n",
      "Epoch 96/100\n",
      "40/40 - 3s - loss: 0.1841 - accuracy: 0.9464 - val_loss: 0.4734 - val_accuracy: 0.8321\n",
      "Epoch 97/100\n",
      "40/40 - 3s - loss: 0.1848 - accuracy: 0.9464 - val_loss: 0.4818 - val_accuracy: 0.8357\n",
      "Epoch 98/100\n",
      "40/40 - 4s - loss: 0.1841 - accuracy: 0.9464 - val_loss: 0.4751 - val_accuracy: 0.8321\n",
      "Epoch 99/100\n",
      "40/40 - 4s - loss: 0.1841 - accuracy: 0.9464 - val_loss: 0.4690 - val_accuracy: 0.8321\n",
      "Epoch 100/100\n",
      "40/40 - 4s - loss: 0.1830 - accuracy: 0.9464 - val_loss: 0.4758 - val_accuracy: 0.8321\n"
     ]
    }
   ],
   "source": [
    "batch_size = 64\n",
    "mc = ModelCheckpoint('./log/Simple_RNN_model.h5', save_best_only=True)\n",
    "history = model.fit(X_train, y_train, epochs=100, batch_size=batch_size,\n",
    "                    verbose=2, validation_data=(X_test, y_test), callbacks=[mc])\n"
   ]
  },
  {
   "cell_type": "code",
   "execution_count": 23,
   "metadata": {},
   "outputs": [],
   "source": [
    "model.load_weights('./log/Simple_RNN_model.h5')"
   ]
  },
  {
   "cell_type": "code",
   "execution_count": 28,
   "metadata": {},
   "outputs": [
    {
     "name": "stdout",
     "output_type": "stream",
     "text": [
      "5/5 [==============================] - 0s 33ms/step\n",
      "              precision    recall  f1-score   support\n",
      "\n",
      "           0      0.783     0.946     0.857       149\n",
      "           1      0.920     0.702     0.797       131\n",
      "\n",
      "    accuracy                          0.832       280\n",
      "   macro avg      0.852     0.824     0.827       280\n",
      "weighted avg      0.847     0.832     0.829       280\n",
      "\n"
     ]
    },
    {
     "ename": "",
     "evalue": "",
     "output_type": "error",
     "traceback": [
      "\u001b[1;31mThe Kernel crashed while executing code in the the current cell or a previous cell. Please review the code in the cell(s) to identify a possible cause of the failure. Click <a href='https://aka.ms/vscodeJupyterKernelCrash'>here</a> for more info. View Jupyter <a href='command:jupyter.viewOutput'>log</a> for further details."
     ]
    }
   ],
   "source": [
    "y_pred = model.predict(X_test, verbose=1, batch_size=batch_size)\n",
    "y_pred = [y >= 0.5 for y in y_pred]\n",
    "\n",
    "print(metrics.classification_report(y_test, y_pred, digits=3))\n",
    "with open('log/report.txt', 'w') as f:\n",
    "  f.write(str(metrics.classification_report(y_test, y_pred, digits=3)))\n"
   ]
  },
  {
   "cell_type": "code",
   "execution_count": 25,
   "metadata": {},
   "outputs": [
    {
     "data": {
      "image/png": "[encoded data removed]",
      "text/plain": [
       "<Figure size 432x288 with 2 Axes>"
      ]
     },
     "metadata": {
      "needs_background": "light"
     },
     "output_type": "display_data"
    }
   ],
   "source": [
    "fig, ax = plt.subplots(2, 1)\n",
    "ax[0].plot(history.history['loss'], color='b', label=\"Training loss\")\n",
    "ax[0].plot(history.history['val_loss'], color='r',\n",
    "           label=\"validation loss\", axes=ax[0])\n",
    "legend = ax[0].legend(loc='best', shadow=True)\n",
    "\n",
    "ax[1].plot(history.history['accuracy'], color='b', label=\"Training accuracy\")\n",
    "ax[1].plot(history.history['val_accuracy'],\n",
    "           color='r', label=\"Validation accuracy\")\n",
    "legend = ax[1].legend(loc='best', shadow=True)"
   ]
  },
  {
   "cell_type": "code",
   "execution_count": null,
   "metadata": {},
   "outputs": [],
   "source": []
  }
 ],
 "metadata": {
  "interpreter": {
   "hash": "263279b5c7f5294ef7179eeb038e9113bb5dce42ff0c0d19b3e81ce1438dd79a"
  },
  "kernelspec": {
   "display_name": "Python 3.8.12 ('keras_env')",
   "language": "python",
   "name": "python3"
  },
  "language_info": {
   "codemirror_mode": {
    "name": "ipython",
    "version": 3
   },
   "file_extension": ".py",
   "mimetype": "text/x-python",
   "name": "python",
   "nbconvert_exporter": "python",
   "pygments_lexer": "ipython3",
   "version": "3.8.12"
  },
  "orig_nbformat": 4
 },
 "nbformat": 4,
 "nbformat_minor": 2
}
