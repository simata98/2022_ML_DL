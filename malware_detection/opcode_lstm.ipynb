{
 "cells": [
  {
   "cell_type": "code",
   "execution_count": 1,
   "metadata": {},
   "outputs": [],
   "source": [
    "import os\n",
    "os.environ['TF_CPP_MIN_LOG_LEVEL'] = '3'\n",
    "\n",
    "from pathlib import Path\n",
    "import numpy as np\n",
    "from matplotlib import pyplot as plt\n",
    "from sklearn import metrics\n",
    "from sklearn.model_selection import train_test_split\n",
    "from tensorflow.keras.preprocessing.text import Tokenizer\n",
    "from tensorflow.keras.preprocessing.sequence import pad_sequences\n",
    "from tensorflow.keras.models import Sequential\n",
    "from tensorflow.keras.layers import Dense, Embedding, LSTM, SpatialDropout1D, Bidirectional\n",
    "from tensorflow.keras.callbacks import ModelCheckpoint\n",
    "import itertools"
   ]
  },
  {
   "cell_type": "code",
   "execution_count": 2,
   "metadata": {},
   "outputs": [],
   "source": [
    "import pandas as pd\n",
    "\n",
    "benign_dataset = pd.read_csv('./output/benign/all_benign.txt')"
   ]
  },
  {
   "cell_type": "code",
   "execution_count": 3,
   "metadata": {},
   "outputs": [],
   "source": [
    "max_length = 0\n",
    "corpus = list()\n",
    "labels = list()\n",
    "\n",
    "with open(Path('./output/benign/all_benign.txt'), 'r') as f:\n",
    "  lines = f.read().split('\\n')[:-1]\n",
    "  # print(lines[0][33:])\n",
    "for line in lines:\n",
    "  doc = line[33:]\n",
    "  corpus.append(doc)\n",
    "  labels.append(0)\n",
    "  "
   ]
  },
  {
   "cell_type": "code",
   "execution_count": 4,
   "metadata": {},
   "outputs": [],
   "source": [
    "with open(Path('./output/malware/all_malware.txt'), 'r') as f:\n",
    "  lines = f.read().split('\\n')[:-1]\n",
    "  # print(lines[0][33:])\n",
    "doc = ''\n",
    "for line in lines:\n",
    "  doc = line[33:]\n",
    "  corpus.append(doc)\n",
    "  labels.append(1)"
   ]
  },
  {
   "cell_type": "code",
   "execution_count": 5,
   "metadata": {},
   "outputs": [
    {
     "data": {
      "text/plain": [
       "2800"
      ]
     },
     "execution_count": 5,
     "metadata": {},
     "output_type": "execute_result"
    }
   ],
   "source": [
    "len(corpus)"
   ]
  },
  {
   "cell_type": "code",
   "execution_count": 6,
   "metadata": {},
   "outputs": [
    {
     "data": {
      "text/plain": [
       "2800"
      ]
     },
     "execution_count": 6,
     "metadata": {},
     "output_type": "execute_result"
    }
   ],
   "source": [
    "len(labels)"
   ]
  },
  {
   "cell_type": "code",
   "execution_count": 7,
   "metadata": {},
   "outputs": [],
   "source": [
    "labels = np.array(labels)"
   ]
  },
  {
   "cell_type": "code",
   "execution_count": 17,
   "metadata": {},
   "outputs": [
    {
     "name": "stdout",
     "output_type": "stream",
     "text": [
      "(2800, 192000)\n"
     ]
    }
   ],
   "source": [
    "tokenizer = Tokenizer(split=' ')\n",
    "tokenizer.fit_on_texts(corpus)\n",
    "X = tokenizer.texts_to_sequences(corpus)\n",
    "X = pad_sequences(X, maxlen=192000)\n",
    "print(X.shape)"
   ]
  },
  {
   "cell_type": "code",
   "execution_count": 18,
   "metadata": {},
   "outputs": [
    {
     "name": "stdout",
     "output_type": "stream",
     "text": [
      "(2800, 64, 3000)\n"
     ]
    }
   ],
   "source": [
    "X = X.reshape(-1, 64, 3000)\n",
    "print(X.shape)"
   ]
  },
  {
   "cell_type": "code",
   "execution_count": 19,
   "metadata": {},
   "outputs": [
    {
     "name": "stdout",
     "output_type": "stream",
     "text": [
      "노드 개수: 26, 한 개 밖에 없는 노드: 0\n"
     ]
    }
   ],
   "source": [
    "vocab_size = len(tokenizer.word_index) + 1\n",
    "print(f'노드 개수: {vocab_size}, 한 개 밖에 없는 노드:', end=' ')\n",
    "unique_word = 0\n",
    "for k in tokenizer.word_docs:\n",
    "  if tokenizer.word_docs[k] == 1:\n",
    "    unique_word += 1\n",
    "print(unique_word)"
   ]
  },
  {
   "cell_type": "code",
   "execution_count": 20,
   "metadata": {},
   "outputs": [
    {
     "name": "stdout",
     "output_type": "stream",
     "text": [
      "defaultdict(<class 'int'>, {'sub': 2796, 'add': 2799, 'shl': 2343, 'jz': 2770, 'call': 2786, 'mov': 2800, 'xchg': 1063, 'imul': 2438, 'jnb': 2490, 'xor': 2798, 'nop': 1470, 'push': 2789, 'cmp': 2785, 'jmp': 2785, 'movzx': 2368, 'lea': 2752, 'pop': 2790, 'retn': 2779, 'shr': 2477, 'or': 2729, 'dec': 2499, 'inc': 2587, 'rol': 911, 'retf': 492, 'ror': 611})\n"
     ]
    }
   ],
   "source": [
    "print(tokenizer.word_docs)"
   ]
  },
  {
   "cell_type": "code",
   "execution_count": 22,
   "metadata": {},
   "outputs": [
    {
     "name": "stdout",
     "output_type": "stream",
     "text": [
      "Model: \"sequential_1\"\n",
      "_________________________________________________________________\n",
      " Layer (type)                Output Shape              Param #   \n",
      "=================================================================\n",
      " bidirectional (Bidirectiona  (None, 64, 64)           776448    \n",
      " l)                                                              \n",
      "                                                                 \n",
      " bidirectional_1 (Bidirectio  (None, 64)               24832     \n",
      " nal)                                                            \n",
      "                                                                 \n",
      " dense (Dense)               (None, 1)                 65        \n",
      "                                                                 \n",
      "=================================================================\n",
      "Total params: 801,345\n",
      "Trainable params: 801,345\n",
      "Non-trainable params: 0\n",
      "_________________________________________________________________\n",
      "None\n"
     ]
    }
   ],
   "source": [
    "model = Sequential()\n",
    "model.add(Bidirectional(LSTM(units=32, dropout=0.2, recurrent_dropout=0.2, return_sequences=True),\n",
    "                        input_shape=(64, 3000)))\n",
    "model.add(Bidirectional(LSTM(units=32, dropout=0.2, recurrent_dropout=0.2)))\n",
    "model.add(Dense(1, activation='sigmoid'))\n",
    "model.compile(loss='binary_crossentropy',\n",
    "              optimizer='adam', metrics=['accuracy'])\n",
    "print(model.summary())"
   ]
  },
  {
   "cell_type": "code",
   "execution_count": 24,
   "metadata": {},
   "outputs": [
    {
     "name": "stdout",
     "output_type": "stream",
     "text": [
      "Train을 (1960, 64, 3000)만큼, Test를 (840, 64, 3000)만큼 진행\n"
     ]
    }
   ],
   "source": [
    "X_train, X_test, y_train, y_test = train_test_split(X, labels, test_size=0.3, random_state=42)\n",
    "print(f'Train을 {X_train.shape}만큼, Test를 {X_test.shape}만큼 진행')"
   ]
  },
  {
   "cell_type": "code",
   "execution_count": 25,
   "metadata": {},
   "outputs": [
    {
     "name": "stdout",
     "output_type": "stream",
     "text": [
      "Epoch 1/100\n",
      "4/4 - 23s - loss: 0.6853 - accuracy: 0.5306 - val_loss: 0.6697 - val_accuracy: 0.6122 - 23s/epoch - 6s/step\n",
      "Epoch 2/100\n",
      "4/4 - 12s - loss: 0.6590 - accuracy: 0.6434 - val_loss: 0.6519 - val_accuracy: 0.6378 - 12s/epoch - 3s/step\n",
      "Epoch 3/100\n",
      "4/4 - 13s - loss: 0.6407 - accuracy: 0.6655 - val_loss: 0.6255 - val_accuracy: 0.6990 - 13s/epoch - 3s/step\n",
      "Epoch 4/100\n",
      "4/4 - 13s - loss: 0.6207 - accuracy: 0.7041 - val_loss: 0.6000 - val_accuracy: 0.7041 - 13s/epoch - 3s/step\n",
      "Epoch 5/100\n",
      "4/4 - 12s - loss: 0.6006 - accuracy: 0.7166 - val_loss: 0.5965 - val_accuracy: 0.7398 - 12s/epoch - 3s/step\n",
      "Epoch 6/100\n",
      "4/4 - 12s - loss: 0.5780 - accuracy: 0.7268 - val_loss: 0.5640 - val_accuracy: 0.7041 - 12s/epoch - 3s/step\n",
      "Epoch 7/100\n",
      "4/4 - 12s - loss: 0.5518 - accuracy: 0.7392 - val_loss: 0.5475 - val_accuracy: 0.7143 - 12s/epoch - 3s/step\n",
      "Epoch 8/100\n",
      "4/4 - 12s - loss: 0.5291 - accuracy: 0.7591 - val_loss: 0.5095 - val_accuracy: 0.7602 - 12s/epoch - 3s/step\n",
      "Epoch 9/100\n",
      "4/4 - 12s - loss: 0.4872 - accuracy: 0.7885 - val_loss: 0.4691 - val_accuracy: 0.8061 - 12s/epoch - 3s/step\n",
      "Epoch 10/100\n",
      "4/4 - 12s - loss: 0.4368 - accuracy: 0.8180 - val_loss: 0.4457 - val_accuracy: 0.8061 - 12s/epoch - 3s/step\n",
      "Epoch 11/100\n",
      "4/4 - 12s - loss: 0.3983 - accuracy: 0.8413 - val_loss: 0.4671 - val_accuracy: 0.7449 - 12s/epoch - 3s/step\n",
      "Epoch 12/100\n",
      "4/4 - 12s - loss: 0.3670 - accuracy: 0.8486 - val_loss: 0.4645 - val_accuracy: 0.7857 - 12s/epoch - 3s/step\n",
      "Epoch 13/100\n",
      "4/4 - 12s - loss: 0.3503 - accuracy: 0.8486 - val_loss: 0.7506 - val_accuracy: 0.6378 - 12s/epoch - 3s/step\n",
      "Epoch 14/100\n",
      "4/4 - 12s - loss: 0.4876 - accuracy: 0.7732 - val_loss: 0.4733 - val_accuracy: 0.7806 - 12s/epoch - 3s/step\n",
      "Epoch 15/100\n",
      "4/4 - 13s - loss: 0.4317 - accuracy: 0.8016 - val_loss: 0.4774 - val_accuracy: 0.7653 - 13s/epoch - 3s/step\n",
      "Epoch 16/100\n",
      "4/4 - 12s - loss: 0.3777 - accuracy: 0.8424 - val_loss: 0.4096 - val_accuracy: 0.8316 - 12s/epoch - 3s/step\n",
      "Epoch 17/100\n",
      "4/4 - 13s - loss: 0.3390 - accuracy: 0.8702 - val_loss: 0.3985 - val_accuracy: 0.8265 - 13s/epoch - 3s/step\n",
      "Epoch 18/100\n",
      "4/4 - 12s - loss: 0.3078 - accuracy: 0.8804 - val_loss: 0.4020 - val_accuracy: 0.8265 - 12s/epoch - 3s/step\n",
      "Epoch 19/100\n",
      "4/4 - 13s - loss: 0.2921 - accuracy: 0.8838 - val_loss: 0.4231 - val_accuracy: 0.8112 - 13s/epoch - 3s/step\n",
      "Epoch 20/100\n",
      "4/4 - 12s - loss: 0.2635 - accuracy: 0.8985 - val_loss: 0.4322 - val_accuracy: 0.8214 - 12s/epoch - 3s/step\n",
      "Epoch 21/100\n",
      "4/4 - 12s - loss: 0.2474 - accuracy: 0.9053 - val_loss: 0.5775 - val_accuracy: 0.7041 - 12s/epoch - 3s/step\n",
      "Epoch 22/100\n",
      "4/4 - 12s - loss: 0.2330 - accuracy: 0.9087 - val_loss: 0.5274 - val_accuracy: 0.7959 - 12s/epoch - 3s/step\n",
      "Epoch 23/100\n",
      "4/4 - 12s - loss: 0.2451 - accuracy: 0.8980 - val_loss: 0.5443 - val_accuracy: 0.8010 - 12s/epoch - 3s/step\n",
      "Epoch 24/100\n",
      "4/4 - 12s - loss: 0.2820 - accuracy: 0.8832 - val_loss: 0.4721 - val_accuracy: 0.7959 - 12s/epoch - 3s/step\n",
      "Epoch 25/100\n",
      "4/4 - 12s - loss: 0.2286 - accuracy: 0.9212 - val_loss: 0.4789 - val_accuracy: 0.8163 - 12s/epoch - 3s/step\n",
      "Epoch 26/100\n",
      "4/4 - 12s - loss: 0.1931 - accuracy: 0.9359 - val_loss: 0.4815 - val_accuracy: 0.8214 - 12s/epoch - 3s/step\n",
      "Epoch 27/100\n",
      "4/4 - 12s - loss: 0.2069 - accuracy: 0.9212 - val_loss: 0.5123 - val_accuracy: 0.7551 - 12s/epoch - 3s/step\n",
      "Epoch 28/100\n",
      "4/4 - 12s - loss: 0.2138 - accuracy: 0.9184 - val_loss: 0.6360 - val_accuracy: 0.7551 - 12s/epoch - 3s/step\n",
      "Epoch 29/100\n",
      "4/4 - 12s - loss: 0.1934 - accuracy: 0.9257 - val_loss: 0.5197 - val_accuracy: 0.7398 - 12s/epoch - 3s/step\n",
      "Epoch 30/100\n",
      "4/4 - 12s - loss: 0.1719 - accuracy: 0.9342 - val_loss: 0.5233 - val_accuracy: 0.7959 - 12s/epoch - 3s/step\n",
      "Epoch 31/100\n",
      "4/4 - 12s - loss: 0.1564 - accuracy: 0.9354 - val_loss: 0.5647 - val_accuracy: 0.7806 - 12s/epoch - 3s/step\n",
      "Epoch 32/100\n",
      "4/4 - 12s - loss: 0.1670 - accuracy: 0.9371 - val_loss: 0.5212 - val_accuracy: 0.8163 - 12s/epoch - 3s/step\n",
      "Epoch 33/100\n",
      "4/4 - 12s - loss: 0.1498 - accuracy: 0.9461 - val_loss: 0.8026 - val_accuracy: 0.6378 - 12s/epoch - 3s/step\n",
      "Epoch 34/100\n",
      "4/4 - 12s - loss: 0.2046 - accuracy: 0.9178 - val_loss: 0.7620 - val_accuracy: 0.7194 - 12s/epoch - 3s/step\n",
      "Epoch 35/100\n",
      "4/4 - 12s - loss: 0.1672 - accuracy: 0.9348 - val_loss: 0.6693 - val_accuracy: 0.7449 - 12s/epoch - 3s/step\n",
      "Epoch 36/100\n",
      "4/4 - 12s - loss: 0.1529 - accuracy: 0.9405 - val_loss: 0.5366 - val_accuracy: 0.8265 - 12s/epoch - 3s/step\n",
      "Epoch 37/100\n",
      "4/4 - 12s - loss: 0.1400 - accuracy: 0.9495 - val_loss: 0.5711 - val_accuracy: 0.8163 - 12s/epoch - 3s/step\n",
      "Epoch 38/100\n",
      "4/4 - 12s - loss: 0.1318 - accuracy: 0.9490 - val_loss: 0.5760 - val_accuracy: 0.7806 - 12s/epoch - 3s/step\n",
      "Epoch 39/100\n",
      "4/4 - 12s - loss: 0.1116 - accuracy: 0.9609 - val_loss: 0.5731 - val_accuracy: 0.8163 - 12s/epoch - 3s/step\n",
      "Epoch 40/100\n",
      "4/4 - 12s - loss: 0.1040 - accuracy: 0.9615 - val_loss: 0.7065 - val_accuracy: 0.7653 - 12s/epoch - 3s/step\n",
      "Epoch 41/100\n",
      "4/4 - 12s - loss: 0.1046 - accuracy: 0.9643 - val_loss: 0.6770 - val_accuracy: 0.7959 - 12s/epoch - 3s/step\n",
      "Epoch 42/100\n",
      "4/4 - 12s - loss: 0.1064 - accuracy: 0.9620 - val_loss: 0.6215 - val_accuracy: 0.8010 - 12s/epoch - 3s/step\n",
      "Epoch 43/100\n",
      "4/4 - 12s - loss: 0.0937 - accuracy: 0.9637 - val_loss: 0.5739 - val_accuracy: 0.8316 - 12s/epoch - 3s/step\n",
      "Epoch 44/100\n",
      "4/4 - 12s - loss: 0.0923 - accuracy: 0.9683 - val_loss: 0.6133 - val_accuracy: 0.8061 - 12s/epoch - 3s/step\n",
      "Epoch 45/100\n",
      "4/4 - 12s - loss: 0.0856 - accuracy: 0.9700 - val_loss: 0.5921 - val_accuracy: 0.8316 - 12s/epoch - 3s/step\n",
      "Epoch 46/100\n",
      "4/4 - 12s - loss: 0.0752 - accuracy: 0.9728 - val_loss: 0.5795 - val_accuracy: 0.8061 - 12s/epoch - 3s/step\n",
      "Epoch 47/100\n",
      "4/4 - 12s - loss: 0.0847 - accuracy: 0.9705 - val_loss: 0.5955 - val_accuracy: 0.8010 - 12s/epoch - 3s/step\n",
      "Epoch 48/100\n",
      "4/4 - 12s - loss: 0.0624 - accuracy: 0.9790 - val_loss: 0.5773 - val_accuracy: 0.8265 - 12s/epoch - 3s/step\n",
      "Epoch 49/100\n",
      "4/4 - 12s - loss: 0.0569 - accuracy: 0.9830 - val_loss: 0.6143 - val_accuracy: 0.8469 - 12s/epoch - 3s/step\n",
      "Epoch 50/100\n",
      "4/4 - 12s - loss: 0.0860 - accuracy: 0.9728 - val_loss: 0.6487 - val_accuracy: 0.8520 - 12s/epoch - 3s/step\n",
      "Epoch 51/100\n",
      "4/4 - 12s - loss: 0.0746 - accuracy: 0.9751 - val_loss: 0.6835 - val_accuracy: 0.7551 - 12s/epoch - 3s/step\n",
      "Epoch 52/100\n",
      "4/4 - 12s - loss: 0.0461 - accuracy: 0.9853 - val_loss: 0.5779 - val_accuracy: 0.8316 - 12s/epoch - 3s/step\n",
      "Epoch 53/100\n",
      "4/4 - 12s - loss: 0.0558 - accuracy: 0.9841 - val_loss: 0.6661 - val_accuracy: 0.8367 - 12s/epoch - 3s/step\n",
      "Epoch 54/100\n",
      "4/4 - 12s - loss: 0.0612 - accuracy: 0.9779 - val_loss: 0.7310 - val_accuracy: 0.8061 - 12s/epoch - 3s/step\n",
      "Epoch 55/100\n",
      "4/4 - 12s - loss: 0.0604 - accuracy: 0.9790 - val_loss: 0.7088 - val_accuracy: 0.8061 - 12s/epoch - 3s/step\n",
      "Epoch 56/100\n",
      "4/4 - 12s - loss: 0.0534 - accuracy: 0.9830 - val_loss: 0.7310 - val_accuracy: 0.7500 - 12s/epoch - 3s/step\n",
      "Epoch 57/100\n",
      "4/4 - 12s - loss: 0.0910 - accuracy: 0.9671 - val_loss: 0.6780 - val_accuracy: 0.7602 - 12s/epoch - 3s/step\n",
      "Epoch 58/100\n",
      "4/4 - 12s - loss: 0.0769 - accuracy: 0.9677 - val_loss: 0.6932 - val_accuracy: 0.8469 - 12s/epoch - 3s/step\n",
      "Epoch 59/100\n",
      "4/4 - 12s - loss: 0.0675 - accuracy: 0.9739 - val_loss: 0.6637 - val_accuracy: 0.8112 - 12s/epoch - 3s/step\n",
      "Epoch 60/100\n",
      "4/4 - 12s - loss: 0.0693 - accuracy: 0.9756 - val_loss: 0.7704 - val_accuracy: 0.7704 - 12s/epoch - 3s/step\n",
      "Epoch 61/100\n",
      "4/4 - 12s - loss: 0.0813 - accuracy: 0.9734 - val_loss: 0.6928 - val_accuracy: 0.7704 - 12s/epoch - 3s/step\n",
      "Epoch 62/100\n",
      "4/4 - 12s - loss: 0.0533 - accuracy: 0.9841 - val_loss: 0.7160 - val_accuracy: 0.8265 - 12s/epoch - 3s/step\n",
      "Epoch 63/100\n",
      "4/4 - 12s - loss: 0.0720 - accuracy: 0.9779 - val_loss: 0.7578 - val_accuracy: 0.7755 - 12s/epoch - 3s/step\n",
      "Epoch 64/100\n",
      "4/4 - 12s - loss: 0.0811 - accuracy: 0.9700 - val_loss: 0.6339 - val_accuracy: 0.8316 - 12s/epoch - 3s/step\n",
      "Epoch 65/100\n",
      "4/4 - 12s - loss: 0.0563 - accuracy: 0.9802 - val_loss: 0.6684 - val_accuracy: 0.8214 - 12s/epoch - 3s/step\n",
      "Epoch 66/100\n",
      "4/4 - 12s - loss: 0.0748 - accuracy: 0.9722 - val_loss: 0.7244 - val_accuracy: 0.7755 - 12s/epoch - 3s/step\n",
      "Epoch 67/100\n",
      "4/4 - 12s - loss: 0.0706 - accuracy: 0.9756 - val_loss: 0.7090 - val_accuracy: 0.8214 - 12s/epoch - 3s/step\n",
      "Epoch 68/100\n",
      "4/4 - 12s - loss: 0.0682 - accuracy: 0.9785 - val_loss: 0.9066 - val_accuracy: 0.7602 - 12s/epoch - 3s/step\n",
      "Epoch 69/100\n",
      "4/4 - 12s - loss: 0.0572 - accuracy: 0.9813 - val_loss: 0.8250 - val_accuracy: 0.8010 - 12s/epoch - 3s/step\n",
      "Epoch 70/100\n",
      "4/4 - 12s - loss: 0.0541 - accuracy: 0.9836 - val_loss: 0.7459 - val_accuracy: 0.8010 - 12s/epoch - 3s/step\n",
      "Epoch 71/100\n",
      "4/4 - 12s - loss: 0.0572 - accuracy: 0.9824 - val_loss: 0.7612 - val_accuracy: 0.7959 - 12s/epoch - 3s/step\n",
      "Epoch 72/100\n",
      "4/4 - 12s - loss: 0.0595 - accuracy: 0.9802 - val_loss: 0.8038 - val_accuracy: 0.7755 - 12s/epoch - 3s/step\n",
      "Epoch 73/100\n",
      "4/4 - 12s - loss: 0.0487 - accuracy: 0.9830 - val_loss: 0.7524 - val_accuracy: 0.8163 - 12s/epoch - 3s/step\n",
      "Epoch 74/100\n",
      "4/4 - 12s - loss: 0.0414 - accuracy: 0.9875 - val_loss: 0.6782 - val_accuracy: 0.8316 - 12s/epoch - 3s/step\n",
      "Epoch 75/100\n",
      "4/4 - 12s - loss: 0.0479 - accuracy: 0.9847 - val_loss: 0.9904 - val_accuracy: 0.7449 - 12s/epoch - 3s/step\n",
      "Epoch 76/100\n",
      "4/4 - 12s - loss: 0.0518 - accuracy: 0.9807 - val_loss: 0.7462 - val_accuracy: 0.8265 - 12s/epoch - 3s/step\n",
      "Epoch 77/100\n",
      "4/4 - 12s - loss: 0.0671 - accuracy: 0.9745 - val_loss: 0.7022 - val_accuracy: 0.8061 - 12s/epoch - 3s/step\n",
      "Epoch 78/100\n",
      "4/4 - 12s - loss: 0.0390 - accuracy: 0.9898 - val_loss: 0.7177 - val_accuracy: 0.7959 - 12s/epoch - 3s/step\n",
      "Epoch 79/100\n",
      "4/4 - 12s - loss: 0.0454 - accuracy: 0.9847 - val_loss: 0.6757 - val_accuracy: 0.8367 - 12s/epoch - 3s/step\n",
      "Epoch 80/100\n",
      "4/4 - 12s - loss: 0.0439 - accuracy: 0.9858 - val_loss: 0.7422 - val_accuracy: 0.7908 - 12s/epoch - 3s/step\n",
      "Epoch 81/100\n",
      "4/4 - 12s - loss: 0.0299 - accuracy: 0.9926 - val_loss: 0.8771 - val_accuracy: 0.7602 - 12s/epoch - 3s/step\n",
      "Epoch 82/100\n",
      "4/4 - 12s - loss: 0.0295 - accuracy: 0.9915 - val_loss: 0.7734 - val_accuracy: 0.8316 - 12s/epoch - 3s/step\n",
      "Epoch 83/100\n",
      "4/4 - 12s - loss: 0.0276 - accuracy: 0.9892 - val_loss: 0.9614 - val_accuracy: 0.7551 - 12s/epoch - 3s/step\n",
      "Epoch 84/100\n",
      "4/4 - 12s - loss: 0.0386 - accuracy: 0.9875 - val_loss: 0.8775 - val_accuracy: 0.7806 - 12s/epoch - 3s/step\n",
      "Epoch 85/100\n",
      "4/4 - 12s - loss: 0.0296 - accuracy: 0.9904 - val_loss: 0.7411 - val_accuracy: 0.8163 - 12s/epoch - 3s/step\n",
      "Epoch 86/100\n",
      "4/4 - 12s - loss: 0.0468 - accuracy: 0.9830 - val_loss: 0.7217 - val_accuracy: 0.8367 - 12s/epoch - 3s/step\n",
      "Epoch 87/100\n",
      "4/4 - 12s - loss: 0.0478 - accuracy: 0.9853 - val_loss: 0.6980 - val_accuracy: 0.8316 - 12s/epoch - 3s/step\n",
      "Epoch 88/100\n",
      "4/4 - 12s - loss: 0.0434 - accuracy: 0.9864 - val_loss: 0.6905 - val_accuracy: 0.8469 - 12s/epoch - 3s/step\n",
      "Epoch 89/100\n",
      "4/4 - 13s - loss: 0.0474 - accuracy: 0.9836 - val_loss: 0.7565 - val_accuracy: 0.7959 - 13s/epoch - 3s/step\n",
      "Epoch 90/100\n",
      "4/4 - 12s - loss: 0.0528 - accuracy: 0.9830 - val_loss: 0.6969 - val_accuracy: 0.8316 - 12s/epoch - 3s/step\n",
      "Epoch 91/100\n",
      "4/4 - 13s - loss: 0.0439 - accuracy: 0.9881 - val_loss: 0.8056 - val_accuracy: 0.7806 - 13s/epoch - 3s/step\n",
      "Epoch 92/100\n",
      "4/4 - 12s - loss: 0.0326 - accuracy: 0.9915 - val_loss: 0.7988 - val_accuracy: 0.8010 - 12s/epoch - 3s/step\n",
      "Epoch 93/100\n",
      "4/4 - 12s - loss: 0.0287 - accuracy: 0.9921 - val_loss: 1.0032 - val_accuracy: 0.7602 - 12s/epoch - 3s/step\n",
      "Epoch 94/100\n",
      "4/4 - 12s - loss: 0.0359 - accuracy: 0.9904 - val_loss: 0.9097 - val_accuracy: 0.8112 - 12s/epoch - 3s/step\n",
      "Epoch 95/100\n",
      "4/4 - 13s - loss: 0.0322 - accuracy: 0.9909 - val_loss: 0.9586 - val_accuracy: 0.7908 - 13s/epoch - 3s/step\n",
      "Epoch 96/100\n",
      "4/4 - 13s - loss: 0.0413 - accuracy: 0.9853 - val_loss: 0.9533 - val_accuracy: 0.7806 - 13s/epoch - 3s/step\n",
      "Epoch 97/100\n",
      "4/4 - 13s - loss: 0.0265 - accuracy: 0.9904 - val_loss: 0.8342 - val_accuracy: 0.8061 - 13s/epoch - 3s/step\n",
      "Epoch 98/100\n",
      "4/4 - 13s - loss: 0.0237 - accuracy: 0.9926 - val_loss: 0.8513 - val_accuracy: 0.7959 - 13s/epoch - 3s/step\n",
      "Epoch 99/100\n",
      "4/4 - 13s - loss: 0.0215 - accuracy: 0.9932 - val_loss: 0.8462 - val_accuracy: 0.8010 - 13s/epoch - 3s/step\n",
      "Epoch 100/100\n",
      "4/4 - 12s - loss: 0.0237 - accuracy: 0.9926 - val_loss: 0.8934 - val_accuracy: 0.7908 - 12s/epoch - 3s/step\n"
     ]
    }
   ],
   "source": [
    "batch_size = 512\n",
    "mc = ModelCheckpoint('./log/model.h5', save_best_only=True)\n",
    "history = model.fit(X_train, y_train, epochs=100, batch_size=batch_size,\n",
    "                    verbose=2, validation_split=0.1, callbacks=[mc])\n"
   ]
  },
  {
   "cell_type": "code",
   "execution_count": 26,
   "metadata": {},
   "outputs": [],
   "source": [
    "model.load_weights('./log/model.h5')"
   ]
  },
  {
   "cell_type": "code",
   "execution_count": 27,
   "metadata": {},
   "outputs": [
    {
     "name": "stdout",
     "output_type": "stream",
     "text": [
      "2/2 [==============================] - 2s 501ms/step\n",
      "              precision    recall  f1-score   support\n",
      "\n",
      "           0     0.7978    0.8729    0.8337       425\n",
      "           1     0.8560    0.7735    0.8127       415\n",
      "\n",
      "    accuracy                         0.8238       840\n",
      "   macro avg     0.8269    0.8232    0.8232       840\n",
      "weighted avg     0.8266    0.8238    0.8233       840\n",
      "\n"
     ]
    }
   ],
   "source": [
    "y_pred = model.predict(X_test, verbose=1, batch_size=batch_size)\n",
    "y_pred = [y >= 0.5 for y in y_pred]\n",
    "\n",
    "print(metrics.classification_report(y_test, y_pred, digits=4))\n",
    "with open('log/report.txt', 'w') as f:\n",
    "  f.write(str(metrics.classification_report(y_test, y_pred, digits=4)))\n"
   ]
  },
  {
   "cell_type": "code",
   "execution_count": 44,
   "metadata": {},
   "outputs": [
    {
     "data": {
      "image/png": "[encoded data removed]",
      "text/plain": [
       "<Figure size 432x288 with 2 Axes>"
      ]
     },
     "metadata": {
      "needs_background": "light"
     },
     "output_type": "display_data"
    }
   ],
   "source": [
    "fig, ax = plt.subplots(2, 1)\n",
    "ax[0].plot(history.history['loss'], color='b', label=\"Training loss\")\n",
    "ax[0].plot(history.history['val_loss'], color='r',\n",
    "           label=\"validation loss\", axes=ax[0])\n",
    "legend = ax[0].legend(loc='best', shadow=True)\n",
    "\n",
    "ax[1].plot(history.history['accuracy'], color='b', label=\"Training accuracy\")\n",
    "ax[1].plot(history.history['val_accuracy'],\n",
    "           color='r', label=\"Validation accuracy\")\n",
    "legend = ax[1].legend(loc='best', shadow=True)"
   ]
  },
  {
   "cell_type": "code",
   "execution_count": 45,
   "metadata": {},
   "outputs": [
    {
     "data": {
      "image/png": "[encoded data removed]",
      "text/plain": [
       "<Figure size 432x288 with 2 Axes>"
      ]
     },
     "metadata": {
      "needs_background": "light"
     },
     "output_type": "display_data"
    },
    {
     "data": {
      "image/png": "[encoded data removed]",
      "text/plain": [
       "<Figure size 432x288 with 1 Axes>"
      ]
     },
     "metadata": {
      "needs_background": "light"
     },
     "output_type": "display_data"
    }
   ],
   "source": [
    "def plot_confusion_matrix(cm, classes,\n",
    "                          normalize=False,\n",
    "                          title='Confusion matrix',\n",
    "                          cmap=plt.cm.get_cmap('Blues')):\n",
    "\n",
    "    plt.figure()\n",
    "    plt.imshow(cm, interpolation='nearest', cmap=cmap)\n",
    "    plt.title(title)\n",
    "    plt.colorbar()\n",
    "    tick_marks = np.arange(len(classes))\n",
    "    plt.xticks(tick_marks, classes)\n",
    "    plt.yticks(tick_marks, classes)\n",
    "\n",
    "    if normalize:\n",
    "        cm = cm.astype('float') / cm.sum(axis=1)[:, np.newaxis]\n",
    "\n",
    "    thresh = cm.max() / 2.\n",
    "    for i, j in itertools.product(range(cm.shape[0]), range(cm.shape[1])):\n",
    "        plt.text(j, i, cm[i, j],\n",
    "                 horizontalalignment=\"center\",\n",
    "                 color=\"white\" if cm[i, j] > thresh else \"black\")\n",
    "\n",
    "    plt.tight_layout()\n",
    "    plt.ylabel('True label')\n",
    "    plt.xlabel('Predicted label')\n",
    "\n",
    "\n",
    "plot_confusion_matrix(metrics.confusion_matrix(y_test, y_pred), classes=[0, 1])\n",
    "plt.savefig('log/confusion_matrix.png')\n",
    "\n",
    "# Drawing ROC curve\n",
    "plt.figure()\n",
    "fpr, tpr, thresholds = metrics.roc_curve(y_test, y_pred)\n",
    "auc = metrics.roc_auc_score(y_test, y_pred)\n",
    "plt.plot(fpr, tpr, color='blue', label='AUC = %0.4f' % (auc))\n",
    "plt.xlim([0.0, 1.0])\n",
    "plt.ylim([0.0, 1.05])\n",
    "plt.plot([0, 1], [0, 1], 'r--')\n",
    "plt.xlabel('1-Specificity(False Positive Rate)')\n",
    "plt.ylabel('Sensitivity(True Positive Rate)')\n",
    "plt.title('Receiver Operating Characteristic')\n",
    "plt.legend()\n",
    "plt.savefig('log/roc.png')"
   ]
  },
  {
   "cell_type": "code",
   "execution_count": null,
   "metadata": {},
   "outputs": [],
   "source": []
  }
 ],
 "metadata": {
  "interpreter": {
   "hash": "e7370f93d1d0cde622a1f8e1c04877d8463912d04d973331ad4851f04de6915a"
  },
  "kernelspec": {
   "display_name": "Python 3.8.10 64-bit",
   "language": "python",
   "name": "python3"
  },
  "language_info": {
   "codemirror_mode": {
    "name": "ipython",
    "version": 3
   },
   "file_extension": ".py",
   "mimetype": "text/x-python",
   "name": "python",
   "nbconvert_exporter": "python",
   "pygments_lexer": "ipython3",
   "version": "3.8.10"
  },
  "orig_nbformat": 4
 },
 "nbformat": 4,
 "nbformat_minor": 2
}
