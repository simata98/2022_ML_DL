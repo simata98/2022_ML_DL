{
 "cells": [
  {
   "cell_type": "code",
   "execution_count": 1,
   "metadata": {},
   "outputs": [],
   "source": [
    "import os\n",
    "os.environ['TF_CPP_MIN_LOG_LEVEL'] = '3'\n",
    "\n",
    "from pathlib import Path\n",
    "import numpy as np\n",
    "from matplotlib import pyplot as plt\n",
    "from sklearn import metrics\n",
    "from sklearn.model_selection import train_test_split\n",
    "from tensorflow.keras.preprocessing.text import Tokenizer\n",
    "from tensorflow.keras.preprocessing.sequence import pad_sequences\n",
    "from tensorflow.keras.models import Sequential\n",
    "from tensorflow.keras.layers import Dense, Embedding, LSTM, SpatialDropout1D, Bidirectional\n",
    "from tensorflow.keras.callbacks import ModelCheckpoint\n",
    "import itertools"
   ]
  },
  {
   "cell_type": "code",
   "execution_count": 2,
   "metadata": {},
   "outputs": [],
   "source": [
    "# import pandas as pd\n",
    "# from glob import glob\n",
    "\n",
    "# benign_file_list = []\n",
    "# malware_file_list = []\n",
    "\n",
    "# for x in glob('./output/benign/*.txt'):\n",
    "#   benign_file_list.append(x)\n",
    "  \n",
    "# benign_file_list.sort()\n",
    "\n",
    "# for x in glob('./output/malware/*.txt'):\n",
    "#   malware_file_list.append(x)\n",
    "  \n",
    "# malware_file_list.sort()"
   ]
  },
  {
   "cell_type": "code",
   "execution_count": 5,
   "metadata": {},
   "outputs": [],
   "source": [
    "# benign_dataset = pd.DataFrame()\n",
    "# malware_dataset = pd.DataFrame()\n",
    "\n",
    "# for file in benign_file_list:\n",
    "#   temp_dataset = pd.read_csv(file)\n",
    "#   benign_dataset = pd.concat([benign_dataset, temp_dataset], axis=0)\n",
    "  \n",
    "# for file in malware_file_list:\n",
    "#   temp_dataset = pd.read_csv(file)\n",
    "#   malware_dataset = pd.concat([malware_dataset, temp_dataset], axis=0)\n",
    "  \n"
   ]
  },
  {
   "cell_type": "code",
   "execution_count": 2,
   "metadata": {},
   "outputs": [],
   "source": [
    "import pandas as pd\n",
    "\n",
    "benign_dataset = pd.read_csv('./output/benign/all_benign.txt')"
   ]
  },
  {
   "cell_type": "code",
   "execution_count": null,
   "metadata": {},
   "outputs": [],
   "source": [
    "max_length = 0\n",
    "corpus = list()\n",
    "labels = list()\n",
    "\n",
    "with open(Path('./output/benign/all_benign.txt'), 'r') as f:\n",
    "  lines = f.read().split('\\n')[:-1]\n",
    "  # print(lines[0][33:])\n",
    "doc = ''\n",
    "for line in lines:\n",
    "  doc += line[33:]\n",
    "  print(doc)\n",
    "  corpus.append(doc)\n",
    "  labels.append(0)\n"
   ]
  },
  {
   "cell_type": "code",
   "execution_count": 2,
   "metadata": {},
   "outputs": [
    {
     "name": "stdout",
     "output_type": "stream",
     "text": [
      "32\n"
     ]
    }
   ],
   "source": [
    "print(len('65c6d3e055f0ded4028549b714641723'))"
   ]
  },
  {
   "cell_type": "code",
   "execution_count": 6,
   "metadata": {},
   "outputs": [
    {
     "name": "stdout",
     "output_type": "stream",
     "text": [
      "0\n"
     ]
    }
   ],
   "source": [
    "print(max_length)"
   ]
  },
  {
   "cell_type": "code",
   "execution_count": null,
   "metadata": {},
   "outputs": [],
   "source": [
    "vectorizer_opcode = CountVectorizer(\n",
    "  tokenizer = lambda x: x.split(),\n",
    "  lowercase=False,\n",
    "  ngram_range=(2,2),\n",
    "  vocabulary=opcodes_asm_bigram_vocabulary,\n",
    ")\n",
    "\n",
    "file_"
   ]
  }
 ],
 "metadata": {
  "interpreter": {
   "hash": "e7370f93d1d0cde622a1f8e1c04877d8463912d04d973331ad4851f04de6915a"
  },
  "kernelspec": {
   "display_name": "Python 3.8.10 64-bit",
   "language": "python",
   "name": "python3"
  },
  "language_info": {
   "codemirror_mode": {
    "name": "ipython",
    "version": 3
   },
   "file_extension": ".py",
   "mimetype": "text/x-python",
   "name": "python",
   "nbconvert_exporter": "python",
   "pygments_lexer": "ipython3",
   "version": "3.8.10"
  },
  "orig_nbformat": 4
 },
 "nbformat": 4,
 "nbformat_minor": 2
}
